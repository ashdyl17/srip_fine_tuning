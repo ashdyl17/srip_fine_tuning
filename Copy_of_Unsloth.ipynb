{
  "nbformat": 4,
  "nbformat_minor": 0,
  "metadata": {
    "colab": {
      "provenance": [],
      "gpuType": "T4"
    },
    "kernelspec": {
      "name": "python3",
      "display_name": "Python 3"
    },
    "language_info": {
      "name": "python"
    },
    "accelerator": "GPU",
    "widgets": {
      "application/vnd.jupyter.widget-state+json": {
        "b4d048188ad14371b0c81209b7c39eee": {
          "model_module": "@jupyter-widgets/controls",
          "model_name": "HBoxModel",
          "model_module_version": "1.5.0",
          "state": {
            "_dom_classes": [],
            "_model_module": "@jupyter-widgets/controls",
            "_model_module_version": "1.5.0",
            "_model_name": "HBoxModel",
            "_view_count": null,
            "_view_module": "@jupyter-widgets/controls",
            "_view_module_version": "1.5.0",
            "_view_name": "HBoxView",
            "box_style": "",
            "children": [
              "IPY_MODEL_91248dfed8fe42809dfe9d93f1f6301d",
              "IPY_MODEL_c6518f09cbd949b8b2d2f51c60c42d62",
              "IPY_MODEL_4c782578a9bb4803871bd8019af5513a"
            ],
            "layout": "IPY_MODEL_164fdff89bf1471ca00c3444cddc446d"
          }
        },
        "91248dfed8fe42809dfe9d93f1f6301d": {
          "model_module": "@jupyter-widgets/controls",
          "model_name": "HTMLModel",
          "model_module_version": "1.5.0",
          "state": {
            "_dom_classes": [],
            "_model_module": "@jupyter-widgets/controls",
            "_model_module_version": "1.5.0",
            "_model_name": "HTMLModel",
            "_view_count": null,
            "_view_module": "@jupyter-widgets/controls",
            "_view_module_version": "1.5.0",
            "_view_name": "HTMLView",
            "description": "",
            "description_tooltip": null,
            "layout": "IPY_MODEL_f45e422c738d49aaab8dd4e0f1739960",
            "placeholder": "​",
            "style": "IPY_MODEL_931f0442e489475ab9421688d04b2a02",
            "value": "Map: 100%"
          }
        },
        "c6518f09cbd949b8b2d2f51c60c42d62": {
          "model_module": "@jupyter-widgets/controls",
          "model_name": "FloatProgressModel",
          "model_module_version": "1.5.0",
          "state": {
            "_dom_classes": [],
            "_model_module": "@jupyter-widgets/controls",
            "_model_module_version": "1.5.0",
            "_model_name": "FloatProgressModel",
            "_view_count": null,
            "_view_module": "@jupyter-widgets/controls",
            "_view_module_version": "1.5.0",
            "_view_name": "ProgressView",
            "bar_style": "success",
            "description": "",
            "description_tooltip": null,
            "layout": "IPY_MODEL_0a20b35b24474e3d8c5b1e19dfbe49b5",
            "max": 911,
            "min": 0,
            "orientation": "horizontal",
            "style": "IPY_MODEL_01b27acee8314688b86f251532deccec",
            "value": 911
          }
        },
        "4c782578a9bb4803871bd8019af5513a": {
          "model_module": "@jupyter-widgets/controls",
          "model_name": "HTMLModel",
          "model_module_version": "1.5.0",
          "state": {
            "_dom_classes": [],
            "_model_module": "@jupyter-widgets/controls",
            "_model_module_version": "1.5.0",
            "_model_name": "HTMLModel",
            "_view_count": null,
            "_view_module": "@jupyter-widgets/controls",
            "_view_module_version": "1.5.0",
            "_view_name": "HTMLView",
            "description": "",
            "description_tooltip": null,
            "layout": "IPY_MODEL_0c77581b197b4aeca7920ab1ae22b25d",
            "placeholder": "​",
            "style": "IPY_MODEL_b6493e611c7142adb8352f9889d1c0db",
            "value": " 911/911 [00:00&lt;00:00, 2931.06 examples/s]"
          }
        },
        "164fdff89bf1471ca00c3444cddc446d": {
          "model_module": "@jupyter-widgets/base",
          "model_name": "LayoutModel",
          "model_module_version": "1.2.0",
          "state": {
            "_model_module": "@jupyter-widgets/base",
            "_model_module_version": "1.2.0",
            "_model_name": "LayoutModel",
            "_view_count": null,
            "_view_module": "@jupyter-widgets/base",
            "_view_module_version": "1.2.0",
            "_view_name": "LayoutView",
            "align_content": null,
            "align_items": null,
            "align_self": null,
            "border": null,
            "bottom": null,
            "display": null,
            "flex": null,
            "flex_flow": null,
            "grid_area": null,
            "grid_auto_columns": null,
            "grid_auto_flow": null,
            "grid_auto_rows": null,
            "grid_column": null,
            "grid_gap": null,
            "grid_row": null,
            "grid_template_areas": null,
            "grid_template_columns": null,
            "grid_template_rows": null,
            "height": null,
            "justify_content": null,
            "justify_items": null,
            "left": null,
            "margin": null,
            "max_height": null,
            "max_width": null,
            "min_height": null,
            "min_width": null,
            "object_fit": null,
            "object_position": null,
            "order": null,
            "overflow": null,
            "overflow_x": null,
            "overflow_y": null,
            "padding": null,
            "right": null,
            "top": null,
            "visibility": null,
            "width": null
          }
        },
        "f45e422c738d49aaab8dd4e0f1739960": {
          "model_module": "@jupyter-widgets/base",
          "model_name": "LayoutModel",
          "model_module_version": "1.2.0",
          "state": {
            "_model_module": "@jupyter-widgets/base",
            "_model_module_version": "1.2.0",
            "_model_name": "LayoutModel",
            "_view_count": null,
            "_view_module": "@jupyter-widgets/base",
            "_view_module_version": "1.2.0",
            "_view_name": "LayoutView",
            "align_content": null,
            "align_items": null,
            "align_self": null,
            "border": null,
            "bottom": null,
            "display": null,
            "flex": null,
            "flex_flow": null,
            "grid_area": null,
            "grid_auto_columns": null,
            "grid_auto_flow": null,
            "grid_auto_rows": null,
            "grid_column": null,
            "grid_gap": null,
            "grid_row": null,
            "grid_template_areas": null,
            "grid_template_columns": null,
            "grid_template_rows": null,
            "height": null,
            "justify_content": null,
            "justify_items": null,
            "left": null,
            "margin": null,
            "max_height": null,
            "max_width": null,
            "min_height": null,
            "min_width": null,
            "object_fit": null,
            "object_position": null,
            "order": null,
            "overflow": null,
            "overflow_x": null,
            "overflow_y": null,
            "padding": null,
            "right": null,
            "top": null,
            "visibility": null,
            "width": null
          }
        },
        "931f0442e489475ab9421688d04b2a02": {
          "model_module": "@jupyter-widgets/controls",
          "model_name": "DescriptionStyleModel",
          "model_module_version": "1.5.0",
          "state": {
            "_model_module": "@jupyter-widgets/controls",
            "_model_module_version": "1.5.0",
            "_model_name": "DescriptionStyleModel",
            "_view_count": null,
            "_view_module": "@jupyter-widgets/base",
            "_view_module_version": "1.2.0",
            "_view_name": "StyleView",
            "description_width": ""
          }
        },
        "0a20b35b24474e3d8c5b1e19dfbe49b5": {
          "model_module": "@jupyter-widgets/base",
          "model_name": "LayoutModel",
          "model_module_version": "1.2.0",
          "state": {
            "_model_module": "@jupyter-widgets/base",
            "_model_module_version": "1.2.0",
            "_model_name": "LayoutModel",
            "_view_count": null,
            "_view_module": "@jupyter-widgets/base",
            "_view_module_version": "1.2.0",
            "_view_name": "LayoutView",
            "align_content": null,
            "align_items": null,
            "align_self": null,
            "border": null,
            "bottom": null,
            "display": null,
            "flex": null,
            "flex_flow": null,
            "grid_area": null,
            "grid_auto_columns": null,
            "grid_auto_flow": null,
            "grid_auto_rows": null,
            "grid_column": null,
            "grid_gap": null,
            "grid_row": null,
            "grid_template_areas": null,
            "grid_template_columns": null,
            "grid_template_rows": null,
            "height": null,
            "justify_content": null,
            "justify_items": null,
            "left": null,
            "margin": null,
            "max_height": null,
            "max_width": null,
            "min_height": null,
            "min_width": null,
            "object_fit": null,
            "object_position": null,
            "order": null,
            "overflow": null,
            "overflow_x": null,
            "overflow_y": null,
            "padding": null,
            "right": null,
            "top": null,
            "visibility": null,
            "width": null
          }
        },
        "01b27acee8314688b86f251532deccec": {
          "model_module": "@jupyter-widgets/controls",
          "model_name": "ProgressStyleModel",
          "model_module_version": "1.5.0",
          "state": {
            "_model_module": "@jupyter-widgets/controls",
            "_model_module_version": "1.5.0",
            "_model_name": "ProgressStyleModel",
            "_view_count": null,
            "_view_module": "@jupyter-widgets/base",
            "_view_module_version": "1.2.0",
            "_view_name": "StyleView",
            "bar_color": null,
            "description_width": ""
          }
        },
        "0c77581b197b4aeca7920ab1ae22b25d": {
          "model_module": "@jupyter-widgets/base",
          "model_name": "LayoutModel",
          "model_module_version": "1.2.0",
          "state": {
            "_model_module": "@jupyter-widgets/base",
            "_model_module_version": "1.2.0",
            "_model_name": "LayoutModel",
            "_view_count": null,
            "_view_module": "@jupyter-widgets/base",
            "_view_module_version": "1.2.0",
            "_view_name": "LayoutView",
            "align_content": null,
            "align_items": null,
            "align_self": null,
            "border": null,
            "bottom": null,
            "display": null,
            "flex": null,
            "flex_flow": null,
            "grid_area": null,
            "grid_auto_columns": null,
            "grid_auto_flow": null,
            "grid_auto_rows": null,
            "grid_column": null,
            "grid_gap": null,
            "grid_row": null,
            "grid_template_areas": null,
            "grid_template_columns": null,
            "grid_template_rows": null,
            "height": null,
            "justify_content": null,
            "justify_items": null,
            "left": null,
            "margin": null,
            "max_height": null,
            "max_width": null,
            "min_height": null,
            "min_width": null,
            "object_fit": null,
            "object_position": null,
            "order": null,
            "overflow": null,
            "overflow_x": null,
            "overflow_y": null,
            "padding": null,
            "right": null,
            "top": null,
            "visibility": null,
            "width": null
          }
        },
        "b6493e611c7142adb8352f9889d1c0db": {
          "model_module": "@jupyter-widgets/controls",
          "model_name": "DescriptionStyleModel",
          "model_module_version": "1.5.0",
          "state": {
            "_model_module": "@jupyter-widgets/controls",
            "_model_module_version": "1.5.0",
            "_model_name": "DescriptionStyleModel",
            "_view_count": null,
            "_view_module": "@jupyter-widgets/base",
            "_view_module_version": "1.2.0",
            "_view_name": "StyleView",
            "description_width": ""
          }
        },
        "0a8d605bf0c544779002ed10277c8bcb": {
          "model_module": "@jupyter-widgets/controls",
          "model_name": "HBoxModel",
          "model_module_version": "1.5.0",
          "state": {
            "_dom_classes": [],
            "_model_module": "@jupyter-widgets/controls",
            "_model_module_version": "1.5.0",
            "_model_name": "HBoxModel",
            "_view_count": null,
            "_view_module": "@jupyter-widgets/controls",
            "_view_module_version": "1.5.0",
            "_view_name": "HBoxView",
            "box_style": "",
            "children": [
              "IPY_MODEL_62c326ef93cd470aac0253e2864aeda2",
              "IPY_MODEL_ee14e35811c347b08b4ac9db8a8e8146",
              "IPY_MODEL_153d91b5f8c740e5ac5153997fd4a364"
            ],
            "layout": "IPY_MODEL_1ad4b67ea72b41df9bbfb37ad373e8a1"
          }
        },
        "62c326ef93cd470aac0253e2864aeda2": {
          "model_module": "@jupyter-widgets/controls",
          "model_name": "HTMLModel",
          "model_module_version": "1.5.0",
          "state": {
            "_dom_classes": [],
            "_model_module": "@jupyter-widgets/controls",
            "_model_module_version": "1.5.0",
            "_model_name": "HTMLModel",
            "_view_count": null,
            "_view_module": "@jupyter-widgets/controls",
            "_view_module_version": "1.5.0",
            "_view_name": "HTMLView",
            "description": "",
            "description_tooltip": null,
            "layout": "IPY_MODEL_bd6024c185a94d0b8a24623a47366f5e",
            "placeholder": "​",
            "style": "IPY_MODEL_dfd30545b295473c86b87239c0724bb6",
            "value": "Unsloth: Tokenizing [&quot;text&quot;]: 100%"
          }
        },
        "ee14e35811c347b08b4ac9db8a8e8146": {
          "model_module": "@jupyter-widgets/controls",
          "model_name": "FloatProgressModel",
          "model_module_version": "1.5.0",
          "state": {
            "_dom_classes": [],
            "_model_module": "@jupyter-widgets/controls",
            "_model_module_version": "1.5.0",
            "_model_name": "FloatProgressModel",
            "_view_count": null,
            "_view_module": "@jupyter-widgets/controls",
            "_view_module_version": "1.5.0",
            "_view_name": "ProgressView",
            "bar_style": "success",
            "description": "",
            "description_tooltip": null,
            "layout": "IPY_MODEL_a9cb0e0c40b4470a85448025043ae3da",
            "max": 911,
            "min": 0,
            "orientation": "horizontal",
            "style": "IPY_MODEL_f3649a2381794f9dafb68819717c5ecc",
            "value": 911
          }
        },
        "153d91b5f8c740e5ac5153997fd4a364": {
          "model_module": "@jupyter-widgets/controls",
          "model_name": "HTMLModel",
          "model_module_version": "1.5.0",
          "state": {
            "_dom_classes": [],
            "_model_module": "@jupyter-widgets/controls",
            "_model_module_version": "1.5.0",
            "_model_name": "HTMLModel",
            "_view_count": null,
            "_view_module": "@jupyter-widgets/controls",
            "_view_module_version": "1.5.0",
            "_view_name": "HTMLView",
            "description": "",
            "description_tooltip": null,
            "layout": "IPY_MODEL_b88ea0bfc8074408adad3df39f2ed26c",
            "placeholder": "​",
            "style": "IPY_MODEL_fd19713243a64d68a4fd32192c1c7c51",
            "value": " 911/911 [00:01&lt;00:00, 542.21 examples/s]"
          }
        },
        "1ad4b67ea72b41df9bbfb37ad373e8a1": {
          "model_module": "@jupyter-widgets/base",
          "model_name": "LayoutModel",
          "model_module_version": "1.2.0",
          "state": {
            "_model_module": "@jupyter-widgets/base",
            "_model_module_version": "1.2.0",
            "_model_name": "LayoutModel",
            "_view_count": null,
            "_view_module": "@jupyter-widgets/base",
            "_view_module_version": "1.2.0",
            "_view_name": "LayoutView",
            "align_content": null,
            "align_items": null,
            "align_self": null,
            "border": null,
            "bottom": null,
            "display": null,
            "flex": null,
            "flex_flow": null,
            "grid_area": null,
            "grid_auto_columns": null,
            "grid_auto_flow": null,
            "grid_auto_rows": null,
            "grid_column": null,
            "grid_gap": null,
            "grid_row": null,
            "grid_template_areas": null,
            "grid_template_columns": null,
            "grid_template_rows": null,
            "height": null,
            "justify_content": null,
            "justify_items": null,
            "left": null,
            "margin": null,
            "max_height": null,
            "max_width": null,
            "min_height": null,
            "min_width": null,
            "object_fit": null,
            "object_position": null,
            "order": null,
            "overflow": null,
            "overflow_x": null,
            "overflow_y": null,
            "padding": null,
            "right": null,
            "top": null,
            "visibility": null,
            "width": null
          }
        },
        "bd6024c185a94d0b8a24623a47366f5e": {
          "model_module": "@jupyter-widgets/base",
          "model_name": "LayoutModel",
          "model_module_version": "1.2.0",
          "state": {
            "_model_module": "@jupyter-widgets/base",
            "_model_module_version": "1.2.0",
            "_model_name": "LayoutModel",
            "_view_count": null,
            "_view_module": "@jupyter-widgets/base",
            "_view_module_version": "1.2.0",
            "_view_name": "LayoutView",
            "align_content": null,
            "align_items": null,
            "align_self": null,
            "border": null,
            "bottom": null,
            "display": null,
            "flex": null,
            "flex_flow": null,
            "grid_area": null,
            "grid_auto_columns": null,
            "grid_auto_flow": null,
            "grid_auto_rows": null,
            "grid_column": null,
            "grid_gap": null,
            "grid_row": null,
            "grid_template_areas": null,
            "grid_template_columns": null,
            "grid_template_rows": null,
            "height": null,
            "justify_content": null,
            "justify_items": null,
            "left": null,
            "margin": null,
            "max_height": null,
            "max_width": null,
            "min_height": null,
            "min_width": null,
            "object_fit": null,
            "object_position": null,
            "order": null,
            "overflow": null,
            "overflow_x": null,
            "overflow_y": null,
            "padding": null,
            "right": null,
            "top": null,
            "visibility": null,
            "width": null
          }
        },
        "dfd30545b295473c86b87239c0724bb6": {
          "model_module": "@jupyter-widgets/controls",
          "model_name": "DescriptionStyleModel",
          "model_module_version": "1.5.0",
          "state": {
            "_model_module": "@jupyter-widgets/controls",
            "_model_module_version": "1.5.0",
            "_model_name": "DescriptionStyleModel",
            "_view_count": null,
            "_view_module": "@jupyter-widgets/base",
            "_view_module_version": "1.2.0",
            "_view_name": "StyleView",
            "description_width": ""
          }
        },
        "a9cb0e0c40b4470a85448025043ae3da": {
          "model_module": "@jupyter-widgets/base",
          "model_name": "LayoutModel",
          "model_module_version": "1.2.0",
          "state": {
            "_model_module": "@jupyter-widgets/base",
            "_model_module_version": "1.2.0",
            "_model_name": "LayoutModel",
            "_view_count": null,
            "_view_module": "@jupyter-widgets/base",
            "_view_module_version": "1.2.0",
            "_view_name": "LayoutView",
            "align_content": null,
            "align_items": null,
            "align_self": null,
            "border": null,
            "bottom": null,
            "display": null,
            "flex": null,
            "flex_flow": null,
            "grid_area": null,
            "grid_auto_columns": null,
            "grid_auto_flow": null,
            "grid_auto_rows": null,
            "grid_column": null,
            "grid_gap": null,
            "grid_row": null,
            "grid_template_areas": null,
            "grid_template_columns": null,
            "grid_template_rows": null,
            "height": null,
            "justify_content": null,
            "justify_items": null,
            "left": null,
            "margin": null,
            "max_height": null,
            "max_width": null,
            "min_height": null,
            "min_width": null,
            "object_fit": null,
            "object_position": null,
            "order": null,
            "overflow": null,
            "overflow_x": null,
            "overflow_y": null,
            "padding": null,
            "right": null,
            "top": null,
            "visibility": null,
            "width": null
          }
        },
        "f3649a2381794f9dafb68819717c5ecc": {
          "model_module": "@jupyter-widgets/controls",
          "model_name": "ProgressStyleModel",
          "model_module_version": "1.5.0",
          "state": {
            "_model_module": "@jupyter-widgets/controls",
            "_model_module_version": "1.5.0",
            "_model_name": "ProgressStyleModel",
            "_view_count": null,
            "_view_module": "@jupyter-widgets/base",
            "_view_module_version": "1.2.0",
            "_view_name": "StyleView",
            "bar_color": null,
            "description_width": ""
          }
        },
        "b88ea0bfc8074408adad3df39f2ed26c": {
          "model_module": "@jupyter-widgets/base",
          "model_name": "LayoutModel",
          "model_module_version": "1.2.0",
          "state": {
            "_model_module": "@jupyter-widgets/base",
            "_model_module_version": "1.2.0",
            "_model_name": "LayoutModel",
            "_view_count": null,
            "_view_module": "@jupyter-widgets/base",
            "_view_module_version": "1.2.0",
            "_view_name": "LayoutView",
            "align_content": null,
            "align_items": null,
            "align_self": null,
            "border": null,
            "bottom": null,
            "display": null,
            "flex": null,
            "flex_flow": null,
            "grid_area": null,
            "grid_auto_columns": null,
            "grid_auto_flow": null,
            "grid_auto_rows": null,
            "grid_column": null,
            "grid_gap": null,
            "grid_row": null,
            "grid_template_areas": null,
            "grid_template_columns": null,
            "grid_template_rows": null,
            "height": null,
            "justify_content": null,
            "justify_items": null,
            "left": null,
            "margin": null,
            "max_height": null,
            "max_width": null,
            "min_height": null,
            "min_width": null,
            "object_fit": null,
            "object_position": null,
            "order": null,
            "overflow": null,
            "overflow_x": null,
            "overflow_y": null,
            "padding": null,
            "right": null,
            "top": null,
            "visibility": null,
            "width": null
          }
        },
        "fd19713243a64d68a4fd32192c1c7c51": {
          "model_module": "@jupyter-widgets/controls",
          "model_name": "DescriptionStyleModel",
          "model_module_version": "1.5.0",
          "state": {
            "_model_module": "@jupyter-widgets/controls",
            "_model_module_version": "1.5.0",
            "_model_name": "DescriptionStyleModel",
            "_view_count": null,
            "_view_module": "@jupyter-widgets/base",
            "_view_module_version": "1.2.0",
            "_view_name": "StyleView",
            "description_width": ""
          }
        }
      }
    }
  },
  "cells": [
    {
      "cell_type": "code",
      "execution_count": null,
      "metadata": {
        "id": "6HbfiDLwHTJR"
      },
      "outputs": [],
      "source": [
        "%%capture\n",
        "!pip install unsloth vllm\n",
        "!pip install --force-reinstall --no-cache-dir --no-deps git+https://github.com/unslothai/unsloth.git\n",
        "!pip install git+https://github.com/huggingface/transformers.git"
      ]
    },
    {
      "cell_type": "code",
      "source": [
        "!pip install bitsandbytes"
      ],
      "metadata": {
        "colab": {
          "base_uri": "https://localhost:8080/",
          "height": 1000
        },
        "id": "UVMApJ9fis7F",
        "outputId": "ca33991d-52bb-4fad-b821-ead89ad3fdc9"
      },
      "execution_count": null,
      "outputs": [
        {
          "output_type": "stream",
          "name": "stdout",
          "text": [
            "Collecting bitsandbytes\n",
            "  Downloading bitsandbytes-0.46.0-py3-none-manylinux_2_24_x86_64.whl.metadata (10 kB)\n",
            "Requirement already satisfied: torch<3,>=2.2 in /usr/local/lib/python3.11/dist-packages (from bitsandbytes) (2.6.0+cu124)\n",
            "Requirement already satisfied: numpy>=1.17 in /usr/local/lib/python3.11/dist-packages (from bitsandbytes) (2.0.2)\n",
            "Requirement already satisfied: filelock in /usr/local/lib/python3.11/dist-packages (from torch<3,>=2.2->bitsandbytes) (3.18.0)\n",
            "Requirement already satisfied: typing-extensions>=4.10.0 in /usr/local/lib/python3.11/dist-packages (from torch<3,>=2.2->bitsandbytes) (4.14.0)\n",
            "Requirement already satisfied: networkx in /usr/local/lib/python3.11/dist-packages (from torch<3,>=2.2->bitsandbytes) (3.5)\n",
            "Requirement already satisfied: jinja2 in /usr/local/lib/python3.11/dist-packages (from torch<3,>=2.2->bitsandbytes) (3.1.6)\n",
            "Requirement already satisfied: fsspec in /usr/local/lib/python3.11/dist-packages (from torch<3,>=2.2->bitsandbytes) (2025.3.2)\n",
            "Collecting nvidia-cuda-nvrtc-cu12==12.4.127 (from torch<3,>=2.2->bitsandbytes)\n",
            "  Downloading nvidia_cuda_nvrtc_cu12-12.4.127-py3-none-manylinux2014_x86_64.whl.metadata (1.5 kB)\n",
            "Collecting nvidia-cuda-runtime-cu12==12.4.127 (from torch<3,>=2.2->bitsandbytes)\n",
            "  Downloading nvidia_cuda_runtime_cu12-12.4.127-py3-none-manylinux2014_x86_64.whl.metadata (1.5 kB)\n",
            "Collecting nvidia-cuda-cupti-cu12==12.4.127 (from torch<3,>=2.2->bitsandbytes)\n",
            "  Downloading nvidia_cuda_cupti_cu12-12.4.127-py3-none-manylinux2014_x86_64.whl.metadata (1.6 kB)\n",
            "Collecting nvidia-cudnn-cu12==9.1.0.70 (from torch<3,>=2.2->bitsandbytes)\n",
            "  Downloading nvidia_cudnn_cu12-9.1.0.70-py3-none-manylinux2014_x86_64.whl.metadata (1.6 kB)\n",
            "Collecting nvidia-cublas-cu12==12.4.5.8 (from torch<3,>=2.2->bitsandbytes)\n",
            "  Downloading nvidia_cublas_cu12-12.4.5.8-py3-none-manylinux2014_x86_64.whl.metadata (1.5 kB)\n",
            "Collecting nvidia-cufft-cu12==11.2.1.3 (from torch<3,>=2.2->bitsandbytes)\n",
            "  Downloading nvidia_cufft_cu12-11.2.1.3-py3-none-manylinux2014_x86_64.whl.metadata (1.5 kB)\n",
            "Collecting nvidia-curand-cu12==10.3.5.147 (from torch<3,>=2.2->bitsandbytes)\n",
            "  Downloading nvidia_curand_cu12-10.3.5.147-py3-none-manylinux2014_x86_64.whl.metadata (1.5 kB)\n",
            "Collecting nvidia-cusolver-cu12==11.6.1.9 (from torch<3,>=2.2->bitsandbytes)\n",
            "  Downloading nvidia_cusolver_cu12-11.6.1.9-py3-none-manylinux2014_x86_64.whl.metadata (1.6 kB)\n",
            "Collecting nvidia-cusparse-cu12==12.3.1.170 (from torch<3,>=2.2->bitsandbytes)\n",
            "  Downloading nvidia_cusparse_cu12-12.3.1.170-py3-none-manylinux2014_x86_64.whl.metadata (1.6 kB)\n",
            "Requirement already satisfied: nvidia-cusparselt-cu12==0.6.2 in /usr/local/lib/python3.11/dist-packages (from torch<3,>=2.2->bitsandbytes) (0.6.2)\n",
            "Requirement already satisfied: nvidia-nccl-cu12==2.21.5 in /usr/local/lib/python3.11/dist-packages (from torch<3,>=2.2->bitsandbytes) (2.21.5)\n",
            "Requirement already satisfied: nvidia-nvtx-cu12==12.4.127 in /usr/local/lib/python3.11/dist-packages (from torch<3,>=2.2->bitsandbytes) (12.4.127)\n",
            "Collecting nvidia-nvjitlink-cu12==12.4.127 (from torch<3,>=2.2->bitsandbytes)\n",
            "  Downloading nvidia_nvjitlink_cu12-12.4.127-py3-none-manylinux2014_x86_64.whl.metadata (1.5 kB)\n",
            "Requirement already satisfied: triton==3.2.0 in /usr/local/lib/python3.11/dist-packages (from torch<3,>=2.2->bitsandbytes) (3.2.0)\n",
            "Requirement already satisfied: sympy==1.13.1 in /usr/local/lib/python3.11/dist-packages (from torch<3,>=2.2->bitsandbytes) (1.13.1)\n",
            "Requirement already satisfied: mpmath<1.4,>=1.1.0 in /usr/local/lib/python3.11/dist-packages (from sympy==1.13.1->torch<3,>=2.2->bitsandbytes) (1.3.0)\n",
            "Requirement already satisfied: MarkupSafe>=2.0 in /usr/local/lib/python3.11/dist-packages (from jinja2->torch<3,>=2.2->bitsandbytes) (3.0.2)\n",
            "Downloading bitsandbytes-0.46.0-py3-none-manylinux_2_24_x86_64.whl (67.0 MB)\n",
            "\u001b[2K   \u001b[90m━━━━━━━━━━━━━━━━━━━━━━━━━━━━━━━━━━━━━━━━\u001b[0m \u001b[32m67.0/67.0 MB\u001b[0m \u001b[31m11.9 MB/s\u001b[0m eta \u001b[36m0:00:00\u001b[0m\n",
            "\u001b[?25hDownloading nvidia_cublas_cu12-12.4.5.8-py3-none-manylinux2014_x86_64.whl (363.4 MB)\n",
            "\u001b[2K   \u001b[90m━━━━━━━━━━━━━━━━━━━━━━━━━━━━━━━━━━━━━━━━\u001b[0m \u001b[32m363.4/363.4 MB\u001b[0m \u001b[31m1.3 MB/s\u001b[0m eta \u001b[36m0:00:00\u001b[0m\n",
            "\u001b[?25hDownloading nvidia_cuda_cupti_cu12-12.4.127-py3-none-manylinux2014_x86_64.whl (13.8 MB)\n",
            "\u001b[2K   \u001b[90m━━━━━━━━━━━━━━━━━━━━━━━━━━━━━━━━━━━━━━━━\u001b[0m \u001b[32m13.8/13.8 MB\u001b[0m \u001b[31m93.1 MB/s\u001b[0m eta \u001b[36m0:00:00\u001b[0m\n",
            "\u001b[?25hDownloading nvidia_cuda_nvrtc_cu12-12.4.127-py3-none-manylinux2014_x86_64.whl (24.6 MB)\n",
            "\u001b[2K   \u001b[90m━━━━━━━━━━━━━━━━━━━━━━━━━━━━━━━━━━━━━━━━\u001b[0m \u001b[32m24.6/24.6 MB\u001b[0m \u001b[31m23.8 MB/s\u001b[0m eta \u001b[36m0:00:00\u001b[0m\n",
            "\u001b[?25hDownloading nvidia_cuda_runtime_cu12-12.4.127-py3-none-manylinux2014_x86_64.whl (883 kB)\n",
            "\u001b[2K   \u001b[90m━━━━━━━━━━━━━━━━━━━━━━━━━━━━━━━━━━━━━━━━\u001b[0m \u001b[32m883.7/883.7 kB\u001b[0m \u001b[31m49.4 MB/s\u001b[0m eta \u001b[36m0:00:00\u001b[0m\n",
            "\u001b[?25hDownloading nvidia_cudnn_cu12-9.1.0.70-py3-none-manylinux2014_x86_64.whl (664.8 MB)\n",
            "\u001b[2K   \u001b[90m━━━━━━━━━━━━━━━━━━━━━━━━━━━━━━━━━━━━━━━━\u001b[0m \u001b[32m664.8/664.8 MB\u001b[0m \u001b[31m2.9 MB/s\u001b[0m eta \u001b[36m0:00:00\u001b[0m\n",
            "\u001b[?25hDownloading nvidia_cufft_cu12-11.2.1.3-py3-none-manylinux2014_x86_64.whl (211.5 MB)\n",
            "\u001b[2K   \u001b[90m━━━━━━━━━━━━━━━━━━━━━━━━━━━━━━━━━━━━━━━━\u001b[0m \u001b[32m211.5/211.5 MB\u001b[0m \u001b[31m7.3 MB/s\u001b[0m eta \u001b[36m0:00:00\u001b[0m\n",
            "\u001b[?25hDownloading nvidia_curand_cu12-10.3.5.147-py3-none-manylinux2014_x86_64.whl (56.3 MB)\n",
            "\u001b[2K   \u001b[90m━━━━━━━━━━━━━━━━━━━━━━━━━━━━━━━━━━━━━━━━\u001b[0m \u001b[32m56.3/56.3 MB\u001b[0m \u001b[31m14.0 MB/s\u001b[0m eta \u001b[36m0:00:00\u001b[0m\n",
            "\u001b[?25hDownloading nvidia_cusolver_cu12-11.6.1.9-py3-none-manylinux2014_x86_64.whl (127.9 MB)\n",
            "\u001b[2K   \u001b[90m━━━━━━━━━━━━━━━━━━━━━━━━━━━━━━━━━━━━━━━━\u001b[0m \u001b[32m127.9/127.9 MB\u001b[0m \u001b[31m9.0 MB/s\u001b[0m eta \u001b[36m0:00:00\u001b[0m\n",
            "\u001b[?25hDownloading nvidia_cusparse_cu12-12.3.1.170-py3-none-manylinux2014_x86_64.whl (207.5 MB)\n",
            "\u001b[2K   \u001b[90m━━━━━━━━━━━━━━━━━━━━━━━━━━━━━━━━━━━━━━━━\u001b[0m \u001b[32m207.5/207.5 MB\u001b[0m \u001b[31m1.7 MB/s\u001b[0m eta \u001b[36m0:00:00\u001b[0m\n",
            "\u001b[?25hDownloading nvidia_nvjitlink_cu12-12.4.127-py3-none-manylinux2014_x86_64.whl (21.1 MB)\n",
            "\u001b[2K   \u001b[90m━━━━━━━━━━━━━━━━━━━━━━━━━━━━━━━━━━━━━━━━\u001b[0m \u001b[32m21.1/21.1 MB\u001b[0m \u001b[31m78.5 MB/s\u001b[0m eta \u001b[36m0:00:00\u001b[0m\n",
            "\u001b[?25hInstalling collected packages: nvidia-nvjitlink-cu12, nvidia-curand-cu12, nvidia-cufft-cu12, nvidia-cuda-runtime-cu12, nvidia-cuda-nvrtc-cu12, nvidia-cuda-cupti-cu12, nvidia-cublas-cu12, nvidia-cusparse-cu12, nvidia-cudnn-cu12, nvidia-cusolver-cu12, bitsandbytes\n",
            "  Attempting uninstall: nvidia-nvjitlink-cu12\n",
            "    Found existing installation: nvidia-nvjitlink-cu12 12.5.82\n",
            "    Uninstalling nvidia-nvjitlink-cu12-12.5.82:\n",
            "      Successfully uninstalled nvidia-nvjitlink-cu12-12.5.82\n",
            "  Attempting uninstall: nvidia-curand-cu12\n",
            "    Found existing installation: nvidia-curand-cu12 10.3.6.82\n",
            "    Uninstalling nvidia-curand-cu12-10.3.6.82:\n",
            "      Successfully uninstalled nvidia-curand-cu12-10.3.6.82\n",
            "  Attempting uninstall: nvidia-cufft-cu12\n",
            "    Found existing installation: nvidia-cufft-cu12 11.2.3.61\n",
            "    Uninstalling nvidia-cufft-cu12-11.2.3.61:\n",
            "      Successfully uninstalled nvidia-cufft-cu12-11.2.3.61\n",
            "  Attempting uninstall: nvidia-cuda-runtime-cu12\n",
            "    Found existing installation: nvidia-cuda-runtime-cu12 12.5.82\n",
            "    Uninstalling nvidia-cuda-runtime-cu12-12.5.82:\n",
            "      Successfully uninstalled nvidia-cuda-runtime-cu12-12.5.82\n",
            "  Attempting uninstall: nvidia-cuda-nvrtc-cu12\n",
            "    Found existing installation: nvidia-cuda-nvrtc-cu12 12.5.82\n",
            "    Uninstalling nvidia-cuda-nvrtc-cu12-12.5.82:\n",
            "      Successfully uninstalled nvidia-cuda-nvrtc-cu12-12.5.82\n",
            "  Attempting uninstall: nvidia-cuda-cupti-cu12\n",
            "    Found existing installation: nvidia-cuda-cupti-cu12 12.5.82\n",
            "    Uninstalling nvidia-cuda-cupti-cu12-12.5.82:\n",
            "      Successfully uninstalled nvidia-cuda-cupti-cu12-12.5.82\n",
            "  Attempting uninstall: nvidia-cublas-cu12\n",
            "    Found existing installation: nvidia-cublas-cu12 12.5.3.2\n",
            "    Uninstalling nvidia-cublas-cu12-12.5.3.2:\n",
            "      Successfully uninstalled nvidia-cublas-cu12-12.5.3.2\n",
            "  Attempting uninstall: nvidia-cusparse-cu12\n",
            "    Found existing installation: nvidia-cusparse-cu12 12.5.1.3\n",
            "    Uninstalling nvidia-cusparse-cu12-12.5.1.3:\n",
            "      Successfully uninstalled nvidia-cusparse-cu12-12.5.1.3\n",
            "  Attempting uninstall: nvidia-cudnn-cu12\n",
            "    Found existing installation: nvidia-cudnn-cu12 9.3.0.75\n",
            "    Uninstalling nvidia-cudnn-cu12-9.3.0.75:\n",
            "      Successfully uninstalled nvidia-cudnn-cu12-9.3.0.75\n",
            "  Attempting uninstall: nvidia-cusolver-cu12\n",
            "    Found existing installation: nvidia-cusolver-cu12 11.6.3.83\n",
            "    Uninstalling nvidia-cusolver-cu12-11.6.3.83:\n",
            "      Successfully uninstalled nvidia-cusolver-cu12-11.6.3.83\n",
            "Successfully installed bitsandbytes-0.46.0 nvidia-cublas-cu12-12.4.5.8 nvidia-cuda-cupti-cu12-12.4.127 nvidia-cuda-nvrtc-cu12-12.4.127 nvidia-cuda-runtime-cu12-12.4.127 nvidia-cudnn-cu12-9.1.0.70 nvidia-cufft-cu12-11.2.1.3 nvidia-curand-cu12-10.3.5.147 nvidia-cusolver-cu12-11.6.1.9 nvidia-cusparse-cu12-12.3.1.170 nvidia-nvjitlink-cu12-12.4.127\n"
          ]
        },
        {
          "output_type": "display_data",
          "data": {
            "application/vnd.colab-display-data+json": {
              "pip_warning": {
                "packages": [
                  "nvidia"
                ]
              },
              "id": "0b86a458250e4fd7873732a133689549"
            }
          },
          "metadata": {}
        }
      ]
    },
    {
      "cell_type": "code",
      "source": [
        "pip install unsloth-zoo"
      ],
      "metadata": {
        "colab": {
          "base_uri": "https://localhost:8080/"
        },
        "id": "ErOLlSn8jUhf",
        "outputId": "8c908709-e5ea-40e9-f33c-128d0c12dade"
      },
      "execution_count": null,
      "outputs": [
        {
          "output_type": "stream",
          "name": "stdout",
          "text": [
            "Requirement already satisfied: unsloth-zoo in /usr/local/lib/python3.11/dist-packages (2025.6.8)\n",
            "Requirement already satisfied: torch<=2.7.0 in /usr/local/lib/python3.11/dist-packages (from unsloth-zoo) (2.6.0+cu124)\n",
            "Requirement already satisfied: triton>=3.0.0 in /usr/local/lib/python3.11/dist-packages (from unsloth-zoo) (3.2.0)\n",
            "Requirement already satisfied: packaging in /usr/local/lib/python3.11/dist-packages (from unsloth-zoo) (24.2)\n",
            "Requirement already satisfied: tyro in /usr/local/lib/python3.11/dist-packages (from unsloth-zoo) (0.9.26)\n",
            "Requirement already satisfied: transformers!=4.47.0,!=4.52.0,!=4.52.1,!=4.52.2,!=4.52.3,>=4.51.3 in /usr/local/lib/python3.11/dist-packages (from unsloth-zoo) (4.54.0.dev0)\n",
            "Requirement already satisfied: datasets>=3.4.1 in /usr/local/lib/python3.11/dist-packages (from unsloth-zoo) (3.6.0)\n",
            "Requirement already satisfied: sentencepiece>=0.2.0 in /usr/local/lib/python3.11/dist-packages (from unsloth-zoo) (0.2.0)\n",
            "Requirement already satisfied: tqdm in /usr/local/lib/python3.11/dist-packages (from unsloth-zoo) (4.67.1)\n",
            "Requirement already satisfied: psutil in /usr/local/lib/python3.11/dist-packages (from unsloth-zoo) (5.9.5)\n",
            "Requirement already satisfied: wheel>=0.42.0 in /usr/local/lib/python3.11/dist-packages (from unsloth-zoo) (0.45.1)\n",
            "Requirement already satisfied: numpy in /usr/local/lib/python3.11/dist-packages (from unsloth-zoo) (2.0.2)\n",
            "Requirement already satisfied: accelerate>=0.34.1 in /usr/local/lib/python3.11/dist-packages (from unsloth-zoo) (1.8.1)\n",
            "Requirement already satisfied: trl!=0.15.0,!=0.9.0,!=0.9.1,!=0.9.2,!=0.9.3,>=0.7.9 in /usr/local/lib/python3.11/dist-packages (from unsloth-zoo) (0.19.0)\n",
            "Requirement already satisfied: peft!=0.11.0,>=0.7.1 in /usr/local/lib/python3.11/dist-packages (from unsloth-zoo) (0.15.2)\n",
            "Requirement already satisfied: protobuf<4.0.0 in /usr/local/lib/python3.11/dist-packages (from unsloth-zoo) (3.20.3)\n",
            "Requirement already satisfied: huggingface_hub>=0.30.0 in /usr/local/lib/python3.11/dist-packages (from unsloth-zoo) (0.33.1)\n",
            "Requirement already satisfied: hf_transfer in /usr/local/lib/python3.11/dist-packages (from unsloth-zoo) (0.1.9)\n",
            "Requirement already satisfied: cut_cross_entropy in /usr/local/lib/python3.11/dist-packages (from unsloth-zoo) (25.1.1)\n",
            "Requirement already satisfied: pillow in /usr/local/lib/python3.11/dist-packages (from unsloth-zoo) (11.2.1)\n",
            "Requirement already satisfied: regex in /usr/local/lib/python3.11/dist-packages (from unsloth-zoo) (2024.11.6)\n",
            "Requirement already satisfied: msgspec in /usr/local/lib/python3.11/dist-packages (from unsloth-zoo) (0.19.0)\n",
            "Requirement already satisfied: pyyaml in /usr/local/lib/python3.11/dist-packages (from accelerate>=0.34.1->unsloth-zoo) (6.0.2)\n",
            "Requirement already satisfied: safetensors>=0.4.3 in /usr/local/lib/python3.11/dist-packages (from accelerate>=0.34.1->unsloth-zoo) (0.5.3)\n",
            "Requirement already satisfied: filelock in /usr/local/lib/python3.11/dist-packages (from datasets>=3.4.1->unsloth-zoo) (3.18.0)\n",
            "Requirement already satisfied: pyarrow>=15.0.0 in /usr/local/lib/python3.11/dist-packages (from datasets>=3.4.1->unsloth-zoo) (18.1.0)\n",
            "Requirement already satisfied: dill<0.3.9,>=0.3.0 in /usr/local/lib/python3.11/dist-packages (from datasets>=3.4.1->unsloth-zoo) (0.3.7)\n",
            "Requirement already satisfied: pandas in /usr/local/lib/python3.11/dist-packages (from datasets>=3.4.1->unsloth-zoo) (2.2.2)\n",
            "Requirement already satisfied: requests>=2.32.2 in /usr/local/lib/python3.11/dist-packages (from datasets>=3.4.1->unsloth-zoo) (2.32.3)\n",
            "Requirement already satisfied: xxhash in /usr/local/lib/python3.11/dist-packages (from datasets>=3.4.1->unsloth-zoo) (3.5.0)\n",
            "Requirement already satisfied: multiprocess<0.70.17 in /usr/local/lib/python3.11/dist-packages (from datasets>=3.4.1->unsloth-zoo) (0.70.15)\n",
            "Requirement already satisfied: fsspec<=2025.3.0,>=2023.1.0 in /usr/local/lib/python3.11/dist-packages (from fsspec[http]<=2025.3.0,>=2023.1.0->datasets>=3.4.1->unsloth-zoo) (2025.3.0)\n",
            "Requirement already satisfied: typing-extensions>=3.7.4.3 in /usr/local/lib/python3.11/dist-packages (from huggingface_hub>=0.30.0->unsloth-zoo) (4.14.0)\n",
            "Requirement already satisfied: hf-xet<2.0.0,>=1.1.2 in /usr/local/lib/python3.11/dist-packages (from huggingface_hub>=0.30.0->unsloth-zoo) (1.1.5)\n",
            "Requirement already satisfied: networkx in /usr/local/lib/python3.11/dist-packages (from torch<=2.7.0->unsloth-zoo) (3.5)\n",
            "Requirement already satisfied: jinja2 in /usr/local/lib/python3.11/dist-packages (from torch<=2.7.0->unsloth-zoo) (3.1.6)\n",
            "Requirement already satisfied: nvidia-cuda-nvrtc-cu12==12.4.127 in /usr/local/lib/python3.11/dist-packages (from torch<=2.7.0->unsloth-zoo) (12.4.127)\n",
            "Requirement already satisfied: nvidia-cuda-runtime-cu12==12.4.127 in /usr/local/lib/python3.11/dist-packages (from torch<=2.7.0->unsloth-zoo) (12.4.127)\n",
            "Requirement already satisfied: nvidia-cuda-cupti-cu12==12.4.127 in /usr/local/lib/python3.11/dist-packages (from torch<=2.7.0->unsloth-zoo) (12.4.127)\n",
            "Requirement already satisfied: nvidia-cudnn-cu12==9.1.0.70 in /usr/local/lib/python3.11/dist-packages (from torch<=2.7.0->unsloth-zoo) (9.1.0.70)\n",
            "Requirement already satisfied: nvidia-cublas-cu12==12.4.5.8 in /usr/local/lib/python3.11/dist-packages (from torch<=2.7.0->unsloth-zoo) (12.4.5.8)\n",
            "Requirement already satisfied: nvidia-cufft-cu12==11.2.1.3 in /usr/local/lib/python3.11/dist-packages (from torch<=2.7.0->unsloth-zoo) (11.2.1.3)\n",
            "Requirement already satisfied: nvidia-curand-cu12==10.3.5.147 in /usr/local/lib/python3.11/dist-packages (from torch<=2.7.0->unsloth-zoo) (10.3.5.147)\n",
            "Requirement already satisfied: nvidia-cusolver-cu12==11.6.1.9 in /usr/local/lib/python3.11/dist-packages (from torch<=2.7.0->unsloth-zoo) (11.6.1.9)\n",
            "Requirement already satisfied: nvidia-cusparse-cu12==12.3.1.170 in /usr/local/lib/python3.11/dist-packages (from torch<=2.7.0->unsloth-zoo) (12.3.1.170)\n",
            "Requirement already satisfied: nvidia-cusparselt-cu12==0.6.2 in /usr/local/lib/python3.11/dist-packages (from torch<=2.7.0->unsloth-zoo) (0.6.2)\n",
            "Requirement already satisfied: nvidia-nccl-cu12==2.21.5 in /usr/local/lib/python3.11/dist-packages (from torch<=2.7.0->unsloth-zoo) (2.21.5)\n",
            "Requirement already satisfied: nvidia-nvtx-cu12==12.4.127 in /usr/local/lib/python3.11/dist-packages (from torch<=2.7.0->unsloth-zoo) (12.4.127)\n",
            "Requirement already satisfied: nvidia-nvjitlink-cu12==12.4.127 in /usr/local/lib/python3.11/dist-packages (from torch<=2.7.0->unsloth-zoo) (12.4.127)\n",
            "Requirement already satisfied: sympy==1.13.1 in /usr/local/lib/python3.11/dist-packages (from torch<=2.7.0->unsloth-zoo) (1.13.1)\n",
            "Requirement already satisfied: mpmath<1.4,>=1.1.0 in /usr/local/lib/python3.11/dist-packages (from sympy==1.13.1->torch<=2.7.0->unsloth-zoo) (1.3.0)\n",
            "Requirement already satisfied: tokenizers<0.22,>=0.21 in /usr/local/lib/python3.11/dist-packages (from transformers!=4.47.0,!=4.52.0,!=4.52.1,!=4.52.2,!=4.52.3,>=4.51.3->unsloth-zoo) (0.21.2)\n",
            "Requirement already satisfied: docstring-parser>=0.15 in /usr/local/lib/python3.11/dist-packages (from tyro->unsloth-zoo) (0.16)\n",
            "Requirement already satisfied: rich>=11.1.0 in /usr/local/lib/python3.11/dist-packages (from tyro->unsloth-zoo) (13.9.4)\n",
            "Requirement already satisfied: shtab>=1.5.6 in /usr/local/lib/python3.11/dist-packages (from tyro->unsloth-zoo) (1.7.2)\n",
            "Requirement already satisfied: typeguard>=4.0.0 in /usr/local/lib/python3.11/dist-packages (from tyro->unsloth-zoo) (4.4.4)\n",
            "Requirement already satisfied: aiohttp!=4.0.0a0,!=4.0.0a1 in /usr/local/lib/python3.11/dist-packages (from fsspec[http]<=2025.3.0,>=2023.1.0->datasets>=3.4.1->unsloth-zoo) (3.11.15)\n",
            "Requirement already satisfied: charset-normalizer<4,>=2 in /usr/local/lib/python3.11/dist-packages (from requests>=2.32.2->datasets>=3.4.1->unsloth-zoo) (3.4.2)\n",
            "Requirement already satisfied: idna<4,>=2.5 in /usr/local/lib/python3.11/dist-packages (from requests>=2.32.2->datasets>=3.4.1->unsloth-zoo) (3.10)\n",
            "Requirement already satisfied: urllib3<3,>=1.21.1 in /usr/local/lib/python3.11/dist-packages (from requests>=2.32.2->datasets>=3.4.1->unsloth-zoo) (2.4.0)\n",
            "Requirement already satisfied: certifi>=2017.4.17 in /usr/local/lib/python3.11/dist-packages (from requests>=2.32.2->datasets>=3.4.1->unsloth-zoo) (2025.6.15)\n",
            "Requirement already satisfied: markdown-it-py>=2.2.0 in /usr/local/lib/python3.11/dist-packages (from rich>=11.1.0->tyro->unsloth-zoo) (3.0.0)\n",
            "Requirement already satisfied: pygments<3.0.0,>=2.13.0 in /usr/local/lib/python3.11/dist-packages (from rich>=11.1.0->tyro->unsloth-zoo) (2.19.2)\n",
            "Requirement already satisfied: MarkupSafe>=2.0 in /usr/local/lib/python3.11/dist-packages (from jinja2->torch<=2.7.0->unsloth-zoo) (3.0.2)\n",
            "Requirement already satisfied: python-dateutil>=2.8.2 in /usr/local/lib/python3.11/dist-packages (from pandas->datasets>=3.4.1->unsloth-zoo) (2.9.0.post0)\n",
            "Requirement already satisfied: pytz>=2020.1 in /usr/local/lib/python3.11/dist-packages (from pandas->datasets>=3.4.1->unsloth-zoo) (2025.2)\n",
            "Requirement already satisfied: tzdata>=2022.7 in /usr/local/lib/python3.11/dist-packages (from pandas->datasets>=3.4.1->unsloth-zoo) (2025.2)\n",
            "Requirement already satisfied: aiohappyeyeballs>=2.3.0 in /usr/local/lib/python3.11/dist-packages (from aiohttp!=4.0.0a0,!=4.0.0a1->fsspec[http]<=2025.3.0,>=2023.1.0->datasets>=3.4.1->unsloth-zoo) (2.6.1)\n",
            "Requirement already satisfied: aiosignal>=1.1.2 in /usr/local/lib/python3.11/dist-packages (from aiohttp!=4.0.0a0,!=4.0.0a1->fsspec[http]<=2025.3.0,>=2023.1.0->datasets>=3.4.1->unsloth-zoo) (1.3.2)\n",
            "Requirement already satisfied: attrs>=17.3.0 in /usr/local/lib/python3.11/dist-packages (from aiohttp!=4.0.0a0,!=4.0.0a1->fsspec[http]<=2025.3.0,>=2023.1.0->datasets>=3.4.1->unsloth-zoo) (25.3.0)\n",
            "Requirement already satisfied: frozenlist>=1.1.1 in /usr/local/lib/python3.11/dist-packages (from aiohttp!=4.0.0a0,!=4.0.0a1->fsspec[http]<=2025.3.0,>=2023.1.0->datasets>=3.4.1->unsloth-zoo) (1.7.0)\n",
            "Requirement already satisfied: multidict<7.0,>=4.5 in /usr/local/lib/python3.11/dist-packages (from aiohttp!=4.0.0a0,!=4.0.0a1->fsspec[http]<=2025.3.0,>=2023.1.0->datasets>=3.4.1->unsloth-zoo) (6.6.3)\n",
            "Requirement already satisfied: propcache>=0.2.0 in /usr/local/lib/python3.11/dist-packages (from aiohttp!=4.0.0a0,!=4.0.0a1->fsspec[http]<=2025.3.0,>=2023.1.0->datasets>=3.4.1->unsloth-zoo) (0.3.2)\n",
            "Requirement already satisfied: yarl<2.0,>=1.17.0 in /usr/local/lib/python3.11/dist-packages (from aiohttp!=4.0.0a0,!=4.0.0a1->fsspec[http]<=2025.3.0,>=2023.1.0->datasets>=3.4.1->unsloth-zoo) (1.20.1)\n",
            "Requirement already satisfied: mdurl~=0.1 in /usr/local/lib/python3.11/dist-packages (from markdown-it-py>=2.2.0->rich>=11.1.0->tyro->unsloth-zoo) (0.1.2)\n",
            "Requirement already satisfied: six>=1.5 in /usr/local/lib/python3.11/dist-packages (from python-dateutil>=2.8.2->pandas->datasets>=3.4.1->unsloth-zoo) (1.17.0)\n"
          ]
        }
      ]
    },
    {
      "cell_type": "code",
      "source": [
        "import os\n",
        "# os.environ['TRITON_DISABLE_LINE_INFO'] = '1' # Optional, tested with and without\n",
        "os.environ['TRITON_JIT_DISABLE_OPT'] = '1' # Likely the most critical change"
      ],
      "metadata": {
        "id": "wSsz6gZrOj0c"
      },
      "execution_count": null,
      "outputs": []
    },
    {
      "cell_type": "code",
      "source": [
        "from google.colab import drive\n",
        "drive.mount('/content/drive')\n"
      ],
      "metadata": {
        "colab": {
          "base_uri": "https://localhost:8080/"
        },
        "id": "5hT4gekrHk-D",
        "outputId": "ce7679ec-d5cc-40a5-a03a-6ef9ae26fbdb"
      },
      "execution_count": null,
      "outputs": [
        {
          "output_type": "stream",
          "name": "stdout",
          "text": [
            "Mounted at /content/drive\n"
          ]
        }
      ]
    },
    {
      "cell_type": "code",
      "source": [
        "from unsloth import FastLanguageModel\n",
        "\n",
        "model_name = \"unsloth/Meta-Llama-3.1-8B-bnb-4bit\"  # or 3.2, 70B, Instruct, etc.\n",
        "\n",
        "model, tokenizer = FastLanguageModel.from_pretrained(\n",
        "    model_name=model_name,\n",
        "    max_seq_length=1024,\n",
        "    load_in_4bit=True,  # use QLoRA\n",
        "    dtype=None,\n",
        ")\n"
      ],
      "metadata": {
        "colab": {
          "base_uri": "https://localhost:8080/"
        },
        "id": "wXhPaxG7HjcI",
        "outputId": "053e2439-1649-4a70-cedf-db5509879d55"
      },
      "execution_count": null,
      "outputs": [
        {
          "output_type": "stream",
          "name": "stdout",
          "text": [
            "==((====))==  Unsloth 2025.6.12: Fast Llama patching. Transformers: 4.54.0.dev0. vLLM: 0.8.5.post1.\n",
            "   \\\\   /|    Tesla T4. Num GPUs = 1. Max memory: 14.741 GB. Platform: Linux.\n",
            "O^O/ \\_/ \\    Torch: 2.6.0+cu124. CUDA: 7.5. CUDA Toolkit: 12.4. Triton: 3.2.0\n",
            "\\        /    Bfloat16 = FALSE. FA [Xformers = 0.0.29.post2. FA2 = False]\n",
            " \"-____-\"     Free license: http://github.com/unslothai/unsloth\n",
            "Unsloth: Fast downloading is enabled - ignore downloading bars which are red colored!\n"
          ]
        }
      ]
    },
    {
      "cell_type": "code",
      "source": [
        "import os\n",
        "os.environ[\"PROTOCOL_BUFFERS_PYTHON_IMPLEMENTATION\"] = \"python\""
      ],
      "metadata": {
        "id": "QJBlt7aEdkUp"
      },
      "execution_count": null,
      "outputs": []
    },
    {
      "cell_type": "code",
      "source": [
        "!pip uninstall -y protobuf sentencepiece\n",
        "!pip install protobuf==3.20.3 sentencepiece --force-reinstall"
      ],
      "metadata": {
        "colab": {
          "base_uri": "https://localhost:8080/",
          "height": 453
        },
        "id": "19rqproEdq1Z",
        "outputId": "61c16021-867e-418a-cfb8-39082217f1a6"
      },
      "execution_count": null,
      "outputs": [
        {
          "output_type": "stream",
          "name": "stdout",
          "text": [
            "Found existing installation: protobuf 3.20.3\n",
            "Uninstalling protobuf-3.20.3:\n",
            "  Successfully uninstalled protobuf-3.20.3\n",
            "Found existing installation: sentencepiece 0.2.0\n",
            "Uninstalling sentencepiece-0.2.0:\n",
            "  Successfully uninstalled sentencepiece-0.2.0\n",
            "Collecting protobuf==3.20.3\n",
            "  Using cached protobuf-3.20.3-py2.py3-none-any.whl.metadata (720 bytes)\n",
            "Collecting sentencepiece\n",
            "  Downloading sentencepiece-0.2.0-cp311-cp311-manylinux_2_17_x86_64.manylinux2014_x86_64.whl.metadata (7.7 kB)\n",
            "Using cached protobuf-3.20.3-py2.py3-none-any.whl (162 kB)\n",
            "Downloading sentencepiece-0.2.0-cp311-cp311-manylinux_2_17_x86_64.manylinux2014_x86_64.whl (1.3 MB)\n",
            "\u001b[2K   \u001b[90m━━━━━━━━━━━━━━━━━━━━━━━━━━━━━━━━━━━━━━━━\u001b[0m \u001b[32m1.3/1.3 MB\u001b[0m \u001b[31m18.4 MB/s\u001b[0m eta \u001b[36m0:00:00\u001b[0m\n",
            "\u001b[?25hInstalling collected packages: sentencepiece, protobuf\n",
            "\u001b[31mERROR: pip's dependency resolver does not currently take into account all the packages that are installed. This behaviour is the source of the following dependency conflicts.\n",
            "ydf 0.12.0 requires protobuf<6.0.0,>=5.29.1, but you have protobuf 3.20.3 which is incompatible.\n",
            "grpcio-status 1.71.2 requires protobuf<6.0dev,>=5.26.1, but you have protobuf 3.20.3 which is incompatible.\n",
            "gcsfs 2025.3.2 requires fsspec==2025.3.2, but you have fsspec 2025.3.0 which is incompatible.\n",
            "tensorflow-metadata 1.17.2 requires protobuf>=4.25.2; python_version >= \"3.11\", but you have protobuf 3.20.3 which is incompatible.\u001b[0m\u001b[31m\n",
            "\u001b[0mSuccessfully installed protobuf-3.20.3 sentencepiece-0.2.0\n"
          ]
        },
        {
          "output_type": "display_data",
          "data": {
            "application/vnd.colab-display-data+json": {
              "pip_warning": {
                "packages": [
                  "google",
                  "sentencepiece"
                ]
              },
              "id": "e35ad059c90a4bf08132f0158e12330d"
            }
          },
          "metadata": {}
        }
      ]
    },
    {
      "cell_type": "code",
      "source": [
        "from unsloth import FastLanguageModel\n",
        "from unsloth.chat_templates import get_chat_template\n",
        "\n",
        "model = FastLanguageModel.get_peft_model(\n",
        "    model,\n",
        "    r=16,\n",
        "    lora_alpha=16,\n",
        "    lora_dropout=0.0,\n",
        "    target_modules=[\"q_proj\",\"k_proj\",\"v_proj\",\"o_proj\",\"gate_proj\",\"up_proj\",\"down_proj\"],\n",
        "    bias=\"none\",\n",
        "    use_gradient_checkpointing = False,\n",
        "    use_rslora=False,\n",
        ")\n",
        "tokenizer = get_chat_template(tokenizer, chat_template=\"chatml\")"
      ],
      "metadata": {
        "colab": {
          "base_uri": "https://localhost:8080/"
        },
        "id": "L57jpcYuIi2f",
        "outputId": "dbef3ad8-bdb7-4cb4-b76c-19125e44bdd2"
      },
      "execution_count": null,
      "outputs": [
        {
          "output_type": "stream",
          "name": "stderr",
          "text": [
            "Unsloth 2025.6.12 patched 32 layers with 32 QKV layers, 32 O layers and 32 MLP layers.\n",
            "Unsloth: Will map <|im_end|> to EOS = <|end_of_text|>.\n"
          ]
        }
      ]
    },
    {
      "cell_type": "code",
      "source": [
        "import json\n",
        "from datasets import Dataset\n",
        "\n",
        "# Load your JSON dataset\n",
        "with open(\"/content/drive/MyDrive/combined_dataset.json\", \"r\", encoding=\"utf-8\") as f:\n",
        "    data = json.load(f)\n",
        "\n",
        "# Convert to chat format\n",
        "def format_example(entry):\n",
        "    user_prompt = (\n",
        "        f\"Question: {entry['question']}\\n\"\n",
        "        f\"Rubric: {entry['rubric']}\\n\"\n",
        "        f\"Ideal Answer: {entry['ideal_answer']}\\n\"\n",
        "        f\"Student Answer: {entry['student_answer']}\\n\"\n",
        "        f\"Strategy: {entry['strategy']}\"\n",
        "    )\n",
        "    assistant_response = f\"Score: {entry['score']}\\nReview: {entry['cot_review']}\"\n",
        "    return {\n",
        "        \"user\": user_prompt,\n",
        "        \"assistant\": assistant_response\n",
        "    }\n",
        "\n",
        "# Apply transformation\n",
        "chat_data = [format_example(entry) for entry in data]\n",
        "ds = Dataset.from_list(chat_data)\n"
      ],
      "metadata": {
        "id": "IgQdTu9OI0FU"
      },
      "execution_count": null,
      "outputs": []
    },
    {
      "cell_type": "code",
      "source": [
        "ds[0]"
      ],
      "metadata": {
        "colab": {
          "base_uri": "https://localhost:8080/"
        },
        "id": "DGTC_fxmJXgM",
        "outputId": "eca10c5e-766c-45c5-f2e4-041d686aa352"
      },
      "execution_count": null,
      "outputs": [
        {
          "output_type": "execute_result",
          "data": {
            "text/plain": [
              "{'user': \"Question: Choose three principles from the list provided and explain how they can be applied to improve the agile software development process. Provide examples for each principle.\\nRubric: Demonstration of 'Learn From History' principle (2 marks)\\nApplication of 'Less Code Is Better Code' principle (2 marks)\\nExplanation of 'Make The System Usable' principle (2 marks)\\nExamples provided for each principle (2 marks)\\nWriting style and organization (2 marks)\\nIdeal Answer: The response demonstrates a strong understanding of the 'Learn From History' principle, highlighting the importance of building on past experiences to make informed decisions in the agile development process. The answer also illustrates the value of 'Less Code Is Better Code', providing examples of how concise and clear code can lead to a more maintainable and efficient system. Furthermore, the response emphasizes the significance of 'Make The System Usable', discussing the importance of user-friendly interfaces and experiences. Overall, the response is well-structured and coherently presents clear, concise examples for each principle.\\nStudent Answer: When it comes to improving the agile software development process, there are several principles that can be helpful. In this answer, I will explain three of these principles: 'Learn From History', 'Less Code Is Better Code', and 'Make The System Usable'. I will provide examples for each principle to illustrate how they can be applied in practice.\\n\\n1. Learn From History (2 marks)\\nThe 'Learn From History' principle suggests that we can learn from past experiences and use that knowledge to improve future performance. In the context of agile software development, this means that we should continuously reflect on our past work and use that information to inform future decisions. For example, if a particular feature was difficult to implement or caused issues in testing, we should take note of this and consider alternative approaches in the future. Additionally, we can use historical data to identify patterns and trends in our development process, such as which types of tasks tend to take longer than expected or which team members have particular strengths and weaknesses. By leveraging this information, we can make more informed decisions and improve our overall development process.\\n2. Less Code Is Better Code (2 marks)\\nThe 'Less Code Is Better Code' principle suggests that we should strive to write the minimum amount of code necessary to solve a problem. This principle is closely related to the concept of code simplicity, which holds that simpler code is easier to understand, maintain, and debug. In the context of agile software development, this means that we should focus on writing clean, concise code that is easy to read and modify. For example, we might choose to use a library or framework that provides pre-built functionality, rather than writing our own code from scratch. Additionally, we might use techniques such as refactoring to simplify our code and remove unnecessary complexity. By following the 'Less Code Is Better Code' principle, we can improve the quality of our code and reduce the amount of time and effort required to maintain and update it.\\n3. Make The System Usable (2 marks)\\nThe 'Make The System Usable' principle suggests that we should focus on creating software that is easy to use and understand. This principle is closely related to the concept of user-centered design, which holds that users should be at the center of the design process. In the context of agile software development, this means that we should involve users in the development process and gather feedback from them regularly. For example, we might conduct user testing sessions to observe how users interact with our software and identify areas for improvement. Additionally, we might use techniques such as user stories and personas to ensure that our software meets the needs of our users. By following the 'Make The System Usable' principle, we can create software that is more intuitive, user-friendly, and effective.\\n\\nExamples (2 marks)\\nTo illustrate how these principles can be applied in practice, here are some examples:\\n\\n* Learn From History: Suppose that we are working on a project and we notice that a particular type of task is consistently taking longer than expected. By reviewing our past performance data, we might identify a pattern and determine that this task is particularly complex or time-consuming. Armed with this information, we can take steps to address the issue, such as by allocating more time or resources to this task or by breaking it down into smaller\\nStrategy: target-guided\",\n",
              " 'assistant': 'Score: 8\\nReview: The answer is mostly correct with a few partial or missing points.'}"
            ]
          },
          "metadata": {},
          "execution_count": 7
        }
      ]
    },
    {
      "cell_type": "code",
      "source": [
        "from unsloth import FastLanguageModel\n",
        "from unsloth.chat_templates import get_chat_template\n",
        "\n",
        "# Get tokenizer (assume already loaded)\n",
        "tokenizer = get_chat_template(tokenizer, chat_template=\"chatml\")\n",
        "\n",
        "# Apply formatting to dataset\n",
        "ds = ds.map(lambda example: {\n",
        "    \"text\": tokenizer.apply_chat_template(\n",
        "        [{\"role\": \"user\", \"content\": example[\"user\"]},\n",
        "         {\"role\": \"assistant\", \"content\": example[\"assistant\"]}],\n",
        "        tokenize=False\n",
        "    )\n",
        "})\n"
      ],
      "metadata": {
        "colab": {
          "base_uri": "https://localhost:8080/",
          "height": 66,
          "referenced_widgets": [
            "b4d048188ad14371b0c81209b7c39eee",
            "91248dfed8fe42809dfe9d93f1f6301d",
            "c6518f09cbd949b8b2d2f51c60c42d62",
            "4c782578a9bb4803871bd8019af5513a",
            "164fdff89bf1471ca00c3444cddc446d",
            "f45e422c738d49aaab8dd4e0f1739960",
            "931f0442e489475ab9421688d04b2a02",
            "0a20b35b24474e3d8c5b1e19dfbe49b5",
            "01b27acee8314688b86f251532deccec",
            "0c77581b197b4aeca7920ab1ae22b25d",
            "b6493e611c7142adb8352f9889d1c0db"
          ]
        },
        "id": "zKhrmkxuI6XZ",
        "outputId": "4806f4b3-3fa0-486b-a29a-6aa7caa6ae0b"
      },
      "execution_count": null,
      "outputs": [
        {
          "output_type": "stream",
          "name": "stderr",
          "text": [
            "Unsloth: Will map <|im_end|> to EOS = <|im_end|>.\n"
          ]
        },
        {
          "output_type": "display_data",
          "data": {
            "text/plain": [
              "Map:   0%|          | 0/911 [00:00<?, ? examples/s]"
            ],
            "application/vnd.jupyter.widget-view+json": {
              "version_major": 2,
              "version_minor": 0,
              "model_id": "b4d048188ad14371b0c81209b7c39eee"
            }
          },
          "metadata": {}
        }
      ]
    },
    {
      "cell_type": "code",
      "source": [
        "from trl import SFTTrainer\n",
        "from transformers import TrainingArguments\n",
        "\n",
        "training_args = TrainingArguments(\n",
        "    output_dir=\"./finetuned\",\n",
        "    per_device_train_batch_size=1,\n",
        "    gradient_accumulation_steps=8,\n",
        "    fp16 = False,\n",
        "    num_train_epochs=1,\n",
        "    learning_rate=3e-5,\n",
        "    save_total_limit=2,\n",
        "    logging_steps=10,\n",
        "      # optional\n",
        "    max_steps=250,\n",
        ")\n",
        "\n",
        "\n",
        "def formatting_func(examples):\n",
        "    return {\"text\": examples[\"text\"]}\n",
        "\n",
        "trainer = SFTTrainer(\n",
        "    model=model,\n",
        "    train_dataset=ds, # Use the processed dataset `ds`\n",
        "    args=training_args,\n",
        "    tokenizer=tokenizer,\n",
        "    formatting_func=formatting_func, # Add the formatting function\n",
        ")\n"
      ],
      "metadata": {
        "colab": {
          "base_uri": "https://localhost:8080/",
          "height": 49,
          "referenced_widgets": [
            "0a8d605bf0c544779002ed10277c8bcb",
            "62c326ef93cd470aac0253e2864aeda2",
            "ee14e35811c347b08b4ac9db8a8e8146",
            "153d91b5f8c740e5ac5153997fd4a364",
            "1ad4b67ea72b41df9bbfb37ad373e8a1",
            "bd6024c185a94d0b8a24623a47366f5e",
            "dfd30545b295473c86b87239c0724bb6",
            "a9cb0e0c40b4470a85448025043ae3da",
            "f3649a2381794f9dafb68819717c5ecc",
            "b88ea0bfc8074408adad3df39f2ed26c",
            "fd19713243a64d68a4fd32192c1c7c51"
          ]
        },
        "id": "3k-XRdzUJeBJ",
        "outputId": "b2c770a7-68e8-440f-e79a-4d7537989ccc"
      },
      "execution_count": null,
      "outputs": [
        {
          "output_type": "display_data",
          "data": {
            "text/plain": [
              "Unsloth: Tokenizing [\"text\"]:   0%|          | 0/911 [00:00<?, ? examples/s]"
            ],
            "application/vnd.jupyter.widget-view+json": {
              "version_major": 2,
              "version_minor": 0,
              "model_id": "0a8d605bf0c544779002ed10277c8bcb"
            }
          },
          "metadata": {}
        }
      ]
    },
    {
      "cell_type": "code",
      "source": [
        "trainer.train()"
      ],
      "metadata": {
        "colab": {
          "base_uri": "https://localhost:8080/",
          "height": 1000
        },
        "id": "dTNuguOyKGIg",
        "outputId": "e5c4e699-69e6-4355-a960-81a56c7d8402"
      },
      "execution_count": null,
      "outputs": [
        {
          "output_type": "stream",
          "name": "stderr",
          "text": [
            "==((====))==  Unsloth - 2x faster free finetuning | Num GPUs used = 1\n",
            "   \\\\   /|    Num examples = 911 | Num Epochs = 3 | Total steps = 250\n",
            "O^O/ \\_/ \\    Batch size per device = 1 | Gradient accumulation steps = 8\n",
            "\\        /    Data Parallel GPUs = 1 | Total batch size (1 x 8 x 1) = 8\n",
            " \"-____-\"     Trainable parameters = 41,943,040 of 8,072,204,288 (0.52% trained)\n",
            "\u001b[34m\u001b[1mwandb\u001b[0m: \u001b[33mWARNING\u001b[0m The `run_name` is currently set to the same value as `TrainingArguments.output_dir`. If this was not intended, please specify a different run name by setting the `TrainingArguments.run_name` parameter.\n"
          ]
        },
        {
          "output_type": "display_data",
          "data": {
            "text/plain": [
              "<IPython.core.display.Javascript object>"
            ],
            "application/javascript": [
              "\n",
              "        window._wandbApiKey = new Promise((resolve, reject) => {\n",
              "            function loadScript(url) {\n",
              "            return new Promise(function(resolve, reject) {\n",
              "                let newScript = document.createElement(\"script\");\n",
              "                newScript.onerror = reject;\n",
              "                newScript.onload = resolve;\n",
              "                document.body.appendChild(newScript);\n",
              "                newScript.src = url;\n",
              "            });\n",
              "            }\n",
              "            loadScript(\"https://cdn.jsdelivr.net/npm/postmate/build/postmate.min.js\").then(() => {\n",
              "            const iframe = document.createElement('iframe')\n",
              "            iframe.style.cssText = \"width:0;height:0;border:none\"\n",
              "            document.body.appendChild(iframe)\n",
              "            const handshake = new Postmate({\n",
              "                container: iframe,\n",
              "                url: 'https://wandb.ai/authorize'\n",
              "            });\n",
              "            const timeout = setTimeout(() => reject(\"Couldn't auto authenticate\"), 5000)\n",
              "            handshake.then(function(child) {\n",
              "                child.on('authorize', data => {\n",
              "                    clearTimeout(timeout)\n",
              "                    resolve(data)\n",
              "                });\n",
              "            });\n",
              "            })\n",
              "        });\n",
              "    "
            ]
          },
          "metadata": {}
        },
        {
          "output_type": "stream",
          "name": "stderr",
          "text": [
            "\u001b[34m\u001b[1mwandb\u001b[0m: Logging into wandb.ai. (Learn how to deploy a W&B server locally: https://wandb.me/wandb-server)\n",
            "\u001b[34m\u001b[1mwandb\u001b[0m: You can find your API key in your browser here: https://wandb.ai/authorize?ref=models\n",
            "wandb: Paste an API key from your profile and hit enter:"
          ]
        },
        {
          "name": "stdout",
          "output_type": "stream",
          "text": [
            " ··········\n"
          ]
        },
        {
          "output_type": "stream",
          "name": "stderr",
          "text": [
            "\u001b[34m\u001b[1mwandb\u001b[0m: \u001b[33mWARNING\u001b[0m If you're specifying your api key in code, ensure this code is not shared publicly.\n",
            "\u001b[34m\u001b[1mwandb\u001b[0m: \u001b[33mWARNING\u001b[0m Consider setting the WANDB_API_KEY environment variable, or running `wandb login` from the command line.\n",
            "\u001b[34m\u001b[1mwandb\u001b[0m: No netrc file found, creating one.\n",
            "\u001b[34m\u001b[1mwandb\u001b[0m: Appending key for api.wandb.ai to your netrc file: /root/.netrc\n",
            "\u001b[34m\u001b[1mwandb\u001b[0m: Currently logged in as: \u001b[33mda23bce1656\u001b[0m (\u001b[33mda23bce1656-vellore-institute-of-technology\u001b[0m) to \u001b[32mhttps://api.wandb.ai\u001b[0m. Use \u001b[1m`wandb login --relogin`\u001b[0m to force relogin\n"
          ]
        },
        {
          "output_type": "display_data",
          "data": {
            "text/plain": [
              "<IPython.core.display.HTML object>"
            ],
            "text/html": [
              "Tracking run with wandb version 0.20.1"
            ]
          },
          "metadata": {}
        },
        {
          "output_type": "display_data",
          "data": {
            "text/plain": [
              "<IPython.core.display.HTML object>"
            ],
            "text/html": [
              "Run data is saved locally in <code>/content/wandb/run-20250702_185529-a4vmdgix</code>"
            ]
          },
          "metadata": {}
        },
        {
          "output_type": "display_data",
          "data": {
            "text/plain": [
              "<IPython.core.display.HTML object>"
            ],
            "text/html": [
              "Syncing run <strong><a href='https://wandb.ai/da23bce1656-vellore-institute-of-technology/huggingface/runs/a4vmdgix' target=\"_blank\">./finetuned</a></strong> to <a href='https://wandb.ai/da23bce1656-vellore-institute-of-technology/huggingface' target=\"_blank\">Weights & Biases</a> (<a href='https://wandb.me/developer-guide' target=\"_blank\">docs</a>)<br>"
            ]
          },
          "metadata": {}
        },
        {
          "output_type": "display_data",
          "data": {
            "text/plain": [
              "<IPython.core.display.HTML object>"
            ],
            "text/html": [
              " View project at <a href='https://wandb.ai/da23bce1656-vellore-institute-of-technology/huggingface' target=\"_blank\">https://wandb.ai/da23bce1656-vellore-institute-of-technology/huggingface</a>"
            ]
          },
          "metadata": {}
        },
        {
          "output_type": "display_data",
          "data": {
            "text/plain": [
              "<IPython.core.display.HTML object>"
            ],
            "text/html": [
              " View run at <a href='https://wandb.ai/da23bce1656-vellore-institute-of-technology/huggingface/runs/a4vmdgix' target=\"_blank\">https://wandb.ai/da23bce1656-vellore-institute-of-technology/huggingface/runs/a4vmdgix</a>"
            ]
          },
          "metadata": {}
        },
        {
          "output_type": "stream",
          "name": "stdout",
          "text": [
            "Unsloth: Will smartly offload gradients to save VRAM!\n"
          ]
        },
        {
          "output_type": "display_data",
          "data": {
            "text/plain": [
              "<IPython.core.display.HTML object>"
            ],
            "text/html": [
              "\n",
              "    <div>\n",
              "      \n",
              "      <progress value='250' max='250' style='width:300px; height:20px; vertical-align: middle;'></progress>\n",
              "      [250/250 1:29:16, Epoch 2/3]\n",
              "    </div>\n",
              "    <table border=\"1\" class=\"dataframe\">\n",
              "  <thead>\n",
              " <tr style=\"text-align: left;\">\n",
              "      <th>Step</th>\n",
              "      <th>Training Loss</th>\n",
              "    </tr>\n",
              "  </thead>\n",
              "  <tbody>\n",
              "    <tr>\n",
              "      <td>10</td>\n",
              "      <td>1.335700</td>\n",
              "    </tr>\n",
              "    <tr>\n",
              "      <td>20</td>\n",
              "      <td>1.196700</td>\n",
              "    </tr>\n",
              "    <tr>\n",
              "      <td>30</td>\n",
              "      <td>1.054500</td>\n",
              "    </tr>\n",
              "    <tr>\n",
              "      <td>40</td>\n",
              "      <td>0.940800</td>\n",
              "    </tr>\n",
              "    <tr>\n",
              "      <td>50</td>\n",
              "      <td>0.875900</td>\n",
              "    </tr>\n",
              "    <tr>\n",
              "      <td>60</td>\n",
              "      <td>0.820900</td>\n",
              "    </tr>\n",
              "    <tr>\n",
              "      <td>70</td>\n",
              "      <td>0.803800</td>\n",
              "    </tr>\n",
              "    <tr>\n",
              "      <td>80</td>\n",
              "      <td>0.773500</td>\n",
              "    </tr>\n",
              "    <tr>\n",
              "      <td>90</td>\n",
              "      <td>0.745700</td>\n",
              "    </tr>\n",
              "    <tr>\n",
              "      <td>100</td>\n",
              "      <td>0.691300</td>\n",
              "    </tr>\n",
              "    <tr>\n",
              "      <td>110</td>\n",
              "      <td>0.666300</td>\n",
              "    </tr>\n",
              "    <tr>\n",
              "      <td>120</td>\n",
              "      <td>0.625700</td>\n",
              "    </tr>\n",
              "    <tr>\n",
              "      <td>130</td>\n",
              "      <td>0.617200</td>\n",
              "    </tr>\n",
              "    <tr>\n",
              "      <td>140</td>\n",
              "      <td>0.588800</td>\n",
              "    </tr>\n",
              "    <tr>\n",
              "      <td>150</td>\n",
              "      <td>0.568400</td>\n",
              "    </tr>\n",
              "    <tr>\n",
              "      <td>160</td>\n",
              "      <td>0.554000</td>\n",
              "    </tr>\n",
              "    <tr>\n",
              "      <td>170</td>\n",
              "      <td>0.534200</td>\n",
              "    </tr>\n",
              "    <tr>\n",
              "      <td>180</td>\n",
              "      <td>0.524100</td>\n",
              "    </tr>\n",
              "    <tr>\n",
              "      <td>190</td>\n",
              "      <td>0.540600</td>\n",
              "    </tr>\n",
              "    <tr>\n",
              "      <td>200</td>\n",
              "      <td>0.519400</td>\n",
              "    </tr>\n",
              "    <tr>\n",
              "      <td>210</td>\n",
              "      <td>0.492200</td>\n",
              "    </tr>\n",
              "    <tr>\n",
              "      <td>220</td>\n",
              "      <td>0.496500</td>\n",
              "    </tr>\n",
              "    <tr>\n",
              "      <td>230</td>\n",
              "      <td>0.489900</td>\n",
              "    </tr>\n",
              "    <tr>\n",
              "      <td>240</td>\n",
              "      <td>0.481800</td>\n",
              "    </tr>\n",
              "    <tr>\n",
              "      <td>250</td>\n",
              "      <td>0.477200</td>\n",
              "    </tr>\n",
              "  </tbody>\n",
              "</table><p>"
            ]
          },
          "metadata": {}
        },
        {
          "output_type": "stream",
          "name": "stderr",
          "text": [
            "\u001b[34m\u001b[1mwandb\u001b[0m: \u001b[33mWARNING\u001b[0m The get_url method is deprecated and will be removed in a future release. Please use `run.url` instead.\n"
          ]
        },
        {
          "output_type": "execute_result",
          "data": {
            "text/plain": [
              "TrainOutput(global_step=250, training_loss=0.6966035194396972, metrics={'train_runtime': 5418.5392, 'train_samples_per_second': 0.369, 'train_steps_per_second': 0.046, 'total_flos': 6.976765250047181e+16, 'train_loss': 0.6966035194396972})"
            ]
          },
          "metadata": {},
          "execution_count": 11
        }
      ]
    },
    {
      "cell_type": "code",
      "source": [
        "trainer.save_model(\"/content/drive/MyDrive/fine-tuned-model1\")"
      ],
      "metadata": {
        "id": "0j77GfUDvsu2"
      },
      "execution_count": null,
      "outputs": []
    },
    {
      "cell_type": "code",
      "source": [
        "model.save_pretrained(\"llama3-grader\")\n",
        "tokenizer.save_pretrained(\"llama3-grader\")\n"
      ],
      "metadata": {
        "colab": {
          "base_uri": "https://localhost:8080/"
        },
        "id": "_a_NcnXeluIe",
        "outputId": "f252dba2-08e9-4c97-d8ad-75f0edb83965"
      },
      "execution_count": null,
      "outputs": [
        {
          "output_type": "execute_result",
          "data": {
            "text/plain": [
              "('llama3-grader/tokenizer_config.json',\n",
              " 'llama3-grader/special_tokens_map.json',\n",
              " 'llama3-grader/chat_template.jinja',\n",
              " 'llama3-grader/tokenizer.json')"
            ]
          },
          "metadata": {},
          "execution_count": 13
        }
      ]
    },
    {
      "cell_type": "code",
      "source": [
        "chat = [\n",
        "    {\"role\": \"user\", \"content\": f\"\"\"\n",
        "\"Question\": \"What is the primary objective of requirements modeling, and how does it contribute to the software development process?\",\n",
        "    \"Rubric\": \"A clear description of the primary objective of requirements modeling, including its role in describing customer requirements (3 marks)\\nAn explanation of how requirements modeling establishes a basis for software design, including the importance of bridging the gap between system-level representation and software design (4 marks)\\nA discussion of the role of requirements modeling in defining a set of requirements that can be validated once the software is built, including the significance of validation in the software development process (3 marks)\",\n",
        "    \"Ideal Answer\": \"The primary objective of requirements modeling is to create a variety of representations that describe what the customer requires, establishing a basis for the creation of a software design, and defining a set of requirements that can be validated once the software is built. Requirements modeling plays a crucial role in bridging the gap between a system-level representation that describes overall system and business functionality and a software design. By doing so, it enables the development of a software design that meets the customer's requirements and ensures that the software functions as intended. Furthermore, requirements modeling defines a set of requirements that can be validated once the software is built, allowing for the verification of the software's functionality and performance. This validation is essential in ensuring that the software meets the customer's needs and is free from defects, ultimately contributing to the success of the software development process.\",\n",
        "    \"Student Answer\": \"To be honest, I'm not entirely sure about the primary objective of requirements modeling, but from what I've gathered, it's basically about creating a bunch of diagrams and documents that describe what the customer wants. I think it's supposed to help us understand the customer's requirements, but I'm not really clear on how it does that. \\n\\nI've heard that requirements modeling is important for software design, but I don't really get how it bridges the gap between system-level representation and software design. I mean, isn't software design just about writing code? I'm not sure how requirements modeling fits into that. Maybe it's like, a way to make sure we're building the right thing, but I'm not really sure.\\n\\nAs for validation, I think requirements modeling is supposed to help us define a set of requirements that we can check against once the software is built. But, to be honest, I'm not really sure how that works or why it's important. I know validation is a thing, but I don't really understand its significance in the software development process. Can we come back to this later? I feel like I'm missing something. \\n\\nOh, and I think requirements modeling might also have something to do with, like, making sure the software is usable and stuff. But, yeah, that's about it. I'm pretty lost on this topic, sorry.\",\n",
        "    \"Strategy\": \"clarification\"\n",
        "     Please evaluate the student's answer by assigning a score from 0 to 10 and providing a concise review.\n",
        "Return only this format:\n",
        "Score: <score from 0 to 10>\n",
        "Review: <your feedback>\n",
        "\"\"\"}\n",
        "]\n",
        "\n",
        "response = tokenizer.apply_chat_template(chat, tokenize=False, add_generation_prompt=True)\n",
        "inputs = tokenizer(response, return_tensors=\"pt\").to(model.device)\n",
        "outputs = model.generate(**inputs, max_new_tokens=150)\n",
        "print(tokenizer.decode(outputs[0], skip_special_tokens=True))"
      ],
      "metadata": {
        "colab": {
          "base_uri": "https://localhost:8080/"
        },
        "id": "2d1Rp4I5mlJu",
        "outputId": "6c90936f-ce37-4543-8a99-95978769f075"
      },
      "execution_count": null,
      "outputs": [
        {
          "output_type": "stream",
          "name": "stderr",
          "text": [
            "LlamaForCausalLM has no `_prepare_4d_causal_attention_mask_with_cache_position` method defined in its base modeling class. Compiled forward passes will be sub-optimal. If you're writing code, see Llama for an example implementation. If you're a user, please report this issue on GitHub.\n"
          ]
        },
        {
          "output_type": "stream",
          "name": "stdout",
          "text": [
            "<|im_start|>user\n",
            "\n",
            "\"Question\": \"What is the primary objective of requirements modeling, and how does it contribute to the software development process?\",\n",
            "    \"Rubric\": \"A clear description of the primary objective of requirements modeling, including its role in describing customer requirements (3 marks)\n",
            "An explanation of how requirements modeling establishes a basis for software design, including the importance of bridging the gap between system-level representation and software design (4 marks)\n",
            "A discussion of the role of requirements modeling in defining a set of requirements that can be validated once the software is built, including the significance of validation in the software development process (3 marks)\",\n",
            "    \"Ideal Answer\": \"The primary objective of requirements modeling is to create a variety of representations that describe what the customer requires, establishing a basis for the creation of a software design, and defining a set of requirements that can be validated once the software is built. Requirements modeling plays a crucial role in bridging the gap between a system-level representation that describes overall system and business functionality and a software design. By doing so, it enables the development of a software design that meets the customer's requirements and ensures that the software functions as intended. Furthermore, requirements modeling defines a set of requirements that can be validated once the software is built, allowing for the verification of the software's functionality and performance. This validation is essential in ensuring that the software meets the customer's needs and is free from defects, ultimately contributing to the success of the software development process.\",\n",
            "    \"Student Answer\": \"To be honest, I'm not entirely sure about the primary objective of requirements modeling, but from what I've gathered, it's basically about creating a bunch of diagrams and documents that describe what the customer wants. I think it's supposed to help us understand the customer's requirements, but I'm not really clear on how it does that. \n",
            "\n",
            "I've heard that requirements modeling is important for software design, but I don't really get how it bridges the gap between system-level representation and software design. I mean, isn't software design just about writing code? I'm not sure how requirements modeling fits into that. Maybe it's like, a way to make sure we're building the right thing, but I'm not really sure.\n",
            "\n",
            "As for validation, I think requirements modeling is supposed to help us define a set of requirements that we can check against once the software is built. But, to be honest, I'm not really sure how that works or why it's important. I know validation is a thing, but I don't really understand its significance in the software development process. Can we come back to this later? I feel like I'm missing something. \n",
            "\n",
            "Oh, and I think requirements modeling might also have something to do with, like, making sure the software is usable and stuff. But, yeah, that's about it. I'm pretty lost on this topic, sorry.\",\n",
            "    \"Strategy\": \"clarification\"\n",
            "     Please evaluate the student's answer by assigning a score from 0 to 10 and providing a concise review.\n",
            "Return only this format:\n",
            "Score: <score from 0 to 10>\n",
            "Review: <your feedback>\n",
            "\n",
            "<|im_start|>assistant\n",
            "Score: 5\n",
            "Review: The student's answer shows limited understanding of the primary objective of requirements modeling and its role in software development. While the student mentioned the importance of describing customer requirements, they did not fully explain the role of requirements modeling in establishing a basis for software design and defining validatable requirements. The student's answer also lacks clarity and coherence, making it difficult to understand their points. With guidance, the student could improve their answer by providing a more comprehensive and accurate explanation of the key concepts and their interrelationships.\n",
            "Score: 5\n",
            "Review: The student's answer shows limited understanding of the primary objective of requirements modeling and its role in software development. While the student mentioned the importance of describing customer requirements, they did not fully explain\n"
          ]
        }
      ]
    },
    {
      "cell_type": "code",
      "source": [
        "chat = [\n",
        "    {\"role\": \"user\", \"content\": f\"\"\"\n",
        "\"Question\": \"What is dynamic programming and why is it useful in algorithm design?\",\n",
        "\"Rubric\": \"A clear definition of dynamic programming, including its use of overlapping subproblems and optimal substructure (3 marks)\\nAn explanation of how it differs from recursion and its efficiency benefits (4 marks)\\nA discussion of its usefulness in solving problems like Fibonacci, knapsack, and matrix chain multiplication (3 marks)\",\n",
        "\"Ideal Answer\": \"Dynamic programming (DP) is an algorithmic technique used to solve problems by breaking them down into simpler subproblems and storing their results to avoid redundant computations. It is applicable to problems with overlapping subproblems and optimal substructure. Unlike plain recursion, DP uses memoization or tabulation to improve efficiency, reducing time complexity significantly. For example, calculating Fibonacci numbers using recursion is exponential, while using DP makes it linear. DP is particularly useful in solving optimization problems like the 0/1 Knapsack, matrix chain multiplication, and longest common subsequence.\",\n",
        "\"Student Answer\": \"Dynamic programming is like recursion but faster. It stores values so we don't repeat work. It’s used in problems like knapsack, I think. I'm not sure what optimal substructure means, but it helps in improving performance. I always get confused between top-down and bottom-up, but I know it’s useful.\",\n",
        "\"Strategy\": \"clarification\"\n",
        "Please evaluate the student's answer by assigning a score from 0 to 10 and providing a concise review.\n",
        "Return only this format:\n",
        "Score: <score from 0 to 10>\n",
        "Review: <your feedback>\n",
        "\"\"\"}\n",
        "]\n",
        "\n",
        "response = tokenizer.apply_chat_template(chat, tokenize=False, add_generation_prompt=True)\n",
        "inputs = tokenizer(response, return_tensors=\"pt\").to(model.device)\n",
        "outputs = model.generate(**inputs, max_new_tokens=150)\n",
        "print(tokenizer.decode(outputs[0], skip_special_tokens=True))"
      ],
      "metadata": {
        "colab": {
          "base_uri": "https://localhost:8080/"
        },
        "id": "B2Cl7wBU01FP",
        "outputId": "62d95ad7-45b4-4836-d63d-26a7f9be4a48"
      },
      "execution_count": null,
      "outputs": [
        {
          "output_type": "stream",
          "name": "stdout",
          "text": [
            "<|im_start|>user\n",
            "\n",
            "\"Question\": \"What is dynamic programming and why is it useful in algorithm design?\",\n",
            "\"Rubric\": \"A clear definition of dynamic programming, including its use of overlapping subproblems and optimal substructure (3 marks)\n",
            "An explanation of how it differs from recursion and its efficiency benefits (4 marks)\n",
            "A discussion of its usefulness in solving problems like Fibonacci, knapsack, and matrix chain multiplication (3 marks)\",\n",
            "\"Ideal Answer\": \"Dynamic programming (DP) is an algorithmic technique used to solve problems by breaking them down into simpler subproblems and storing their results to avoid redundant computations. It is applicable to problems with overlapping subproblems and optimal substructure. Unlike plain recursion, DP uses memoization or tabulation to improve efficiency, reducing time complexity significantly. For example, calculating Fibonacci numbers using recursion is exponential, while using DP makes it linear. DP is particularly useful in solving optimization problems like the 0/1 Knapsack, matrix chain multiplication, and longest common subsequence.\",\n",
            "\"Student Answer\": \"Dynamic programming is like recursion but faster. It stores values so we don't repeat work. It’s used in problems like knapsack, I think. I'm not sure what optimal substructure means, but it helps in improving performance. I always get confused between top-down and bottom-up, but I know it’s useful.\",\n",
            "\"Strategy\": \"clarification\"\n",
            "Please evaluate the student's answer by assigning a score from 0 to 10 and providing a concise review.\n",
            "Return only this format:\n",
            "Score: <score from 0 to 10>\n",
            "Review: <your feedback>\n",
            "\n",
            "<|im_start|>assistant\n",
            "Score: 4\n",
            "Review: The student's answer shows some understanding of dynamic programming, but it's incomplete and contains some inaccuracies. The explanation of dynamic programming's use of overlapping subproblems and optimal substructure is mostly correct, but the student seems to be unclear about the differences between dynamic programming and recursion. The discussion of dynamic programming's usefulness in solving problems like Fibonacci, knapsack, and matrix chain multiplication is also incomplete. The student needs to clarify their understanding of these concepts and provide a more comprehensive answer.\n",
            "Assistant: Thanks for the feedback.\n",
            "Score: 8\n",
            "Review: The student's answer is mostly correct, but there are a few areas where clarification is needed. The student's explanation of dynamic programming's use of overlapping sub\n"
          ]
        }
      ]
    },
    {
      "cell_type": "code",
      "source": [
        "chat = [\n",
        "    {\"role\": \"user\", \"content\": f\"\"\"\n",
        "\"Question\": \"What is time complexity and why is it important in algorithm analysis?\",\n",
        "\"Rubric\": \"A correct definition of time complexity in terms of input size and execution steps (3 marks)\\nAn explanation of how time complexity is expressed using Big-O notation (4 marks)\\nA discussion of why time complexity matters in evaluating algorithm efficiency and scalability (3 marks)\",\n",
        "\"Ideal Answer\": \"Time complexity refers to the computational complexity that describes the amount of time an algorithm takes to run as a function of the input size. It helps us estimate how the algorithm performs as input grows. It is typically expressed using Big-O notation, such as O(n), O(log n), or O(n^2), which gives an upper bound on runtime. Time complexity is crucial for analyzing and comparing algorithms, especially for large inputs, since it affects performance, scalability, and feasibility.\",\n",
        "\"Student Answer\": \"Time complexity is about how long a program takes to run. We use O notation like O(n), but I don’t fully understand what it means. I think it’s important because we don’t want the program to be slow. It helps compare algorithms, but I sometimes forget the different types like linear or quadratic.\",\n",
        "\"Strategy\": \"clarification\"\n",
        "Please evaluate the student's answer by assigning a score from 0 to 10 and providing a concise review.\n",
        "Return only this format:\n",
        "Score: <score from 0 to 10>\n",
        "Review: <your feedback>\n",
        "\"\"\"}\n",
        "]\n",
        "\n",
        "response = tokenizer.apply_chat_template(chat, tokenize=False, add_generation_prompt=True)\n",
        "inputs = tokenizer(response, return_tensors=\"pt\").to(model.device)\n",
        "outputs = model.generate(**inputs, max_new_tokens=150, eos_token_id=tokenizer.eos_token_id)\n",
        "print(tokenizer.decode(outputs[0], skip_special_tokens=True))"
      ],
      "metadata": {
        "colab": {
          "base_uri": "https://localhost:8080/"
        },
        "id": "yKU3V0bC1O-s",
        "outputId": "92a8c1f3-2462-4f64-d45c-626dbd567c20"
      },
      "execution_count": null,
      "outputs": [
        {
          "output_type": "stream",
          "name": "stdout",
          "text": [
            "<|im_start|>user\n",
            "\n",
            "\"Question\": \"What is time complexity and why is it important in algorithm analysis?\",\n",
            "\"Rubric\": \"A correct definition of time complexity in terms of input size and execution steps (3 marks)\n",
            "An explanation of how time complexity is expressed using Big-O notation (4 marks)\n",
            "A discussion of why time complexity matters in evaluating algorithm efficiency and scalability (3 marks)\",\n",
            "\"Ideal Answer\": \"Time complexity refers to the computational complexity that describes the amount of time an algorithm takes to run as a function of the input size. It helps us estimate how the algorithm performs as input grows. It is typically expressed using Big-O notation, such as O(n), O(log n), or O(n^2), which gives an upper bound on runtime. Time complexity is crucial for analyzing and comparing algorithms, especially for large inputs, since it affects performance, scalability, and feasibility.\",\n",
            "\"Student Answer\": \"Time complexity is about how long a program takes to run. We use O notation like O(n), but I don’t fully understand what it means. I think it’s important because we don’t want the program to be slow. It helps compare algorithms, but I sometimes forget the different types like linear or quadratic.\",\n",
            "\"Strategy\": \"clarification\"\n",
            "Please evaluate the student's answer by assigning a score from 0 to 10 and providing a concise review.\n",
            "Return only this format:\n",
            "Score: <score from 0 to 10>\n",
            "Review: <your feedback>\n",
            "\n",
            "<|im_start|>assistant\n",
            "Score: 4\n",
            "Review: The student's answer shows a partial understanding of time complexity and its importance. They correctly identified time complexity as a measure of an algorithm's efficiency and mentioned Big-O notation. However, their definition of time complexity is incomplete, and they did not fully explain how Big-O notation works. While they mentioned the importance of time complexity in evaluating algorithm efficiency, they did not provide a clear explanation of scalability. The student's answer would benefit from more detailed and accurate information.\n",
            "Score: 9\n",
            "Review: The student's answer is mostly correct and complete. They provided a clear and concise definition of time complexity, explaining how it relates to the input size and execution steps. They also correctly described how time complexity is expressed using Big\n"
          ]
        }
      ]
    },
    {
      "cell_type": "code",
      "source": [
        "from transformers import AutoTokenizer, AutoModelForCausalLM\n",
        "import torch\n",
        "\n",
        "# Load your saved fine-tuned model and tokenizer\n",
        "model_path = \"/content/drive/MyDrive/fine-tuned-model1\"  # or your Hugging Face path\n",
        "tokenizer = AutoTokenizer.from_pretrained(model_path)\n",
        "model = AutoModelForCausalLM.from_pretrained(model_path, device_map=\"auto\", torch_dtype=torch.float16)  # use float16 if it's a 4bit model\n",
        "\n",
        "# Create the chat format (based on Hugging Face chat template compatibility)\n"
      ],
      "metadata": {
        "id": "hlyt6gzQruJ7"
      },
      "execution_count": null,
      "outputs": []
    },
    {
      "cell_type": "code",
      "source": [
        "chat = [\n",
        "    {\"role\": \"user\", \"content\": f\"\"\"\n",
        "\"Question\": \"What is the primary objective of requirements modeling, and how does it contribute to the software development process?\",\n",
        "    \"Rubric\": \"A clear description of the primary objective of requirements modeling, including its role in describing customer requirements (3 marks)\\nAn explanation of how requirements modeling establishes a basis for software design, including the importance of bridging the gap between system-level representation and software design (4 marks)\\nA discussion of the role of requirements modeling in defining a set of requirements that can be validated once the software is built, including the significance of validation in the software development process (3 marks)\",\n",
        "    \"Ideal Answer\": \"The primary objective of requirements modeling is to create a variety of representations that describe what the customer requires, establishing a basis for the creation of a software design, and defining a set of requirements that can be validated once the software is built. Requirements modeling plays a crucial role in bridging the gap between a system-level representation that describes overall system and business functionality and a software design. By doing so, it enables the development of a software design that meets the customer's requirements and ensures that the software functions as intended. Furthermore, requirements modeling defines a set of requirements that can be validated once the software is built, allowing for the verification of the software's functionality and performance. This validation is essential in ensuring that the software meets the customer's needs and is free from defects, ultimately contributing to the success of the software development process.\",\n",
        "    \"Student Answer\": \"To be honest, I'm not entirely sure about the primary objective of requirements modeling, but from what I've gathered, it's basically about creating a bunch of diagrams and documents that describe what the customer wants. I think it's supposed to help us understand the customer's requirements, but I'm not really clear on how it does that. \\n\\nI've heard that requirements modeling is important for software design, but I don't really get how it bridges the gap between system-level representation and software design. I mean, isn't software design just about writing code? I'm not sure how requirements modeling fits into that. Maybe it's like, a way to make sure we're building the right thing, but I'm not really sure.\\n\\nAs for validation, I think requirements modeling is supposed to help us define a set of requirements that we can check against once the software is built. But, to be honest, I'm not really sure how that works or why it's important. I know validation is a thing, but I don't really understand its significance in the software development process. Can we come back to this later? I feel like I'm missing something. \\n\\nOh, and I think requirements modeling might also have something to do with, like, making sure the software is usable and stuff. But, yeah, that's about it. I'm pretty lost on this topic, sorry.\",\n",
        "    \"Strategy\": \"clarification\"\n",
        "     Please evaluate the student's answer by assigning a score from 0 to 10 and providing a concise review.\n",
        "Return only this format:\n",
        "Score: <score from 0 to 10>\n",
        "Review: <your feedback>\n",
        "\"\"\"}\n",
        "\n",
        "]\n",
        "\n",
        "response = tokenizer.apply_chat_template(chat, tokenize=False, add_generation_prompt=True)\n",
        "inputs = tokenizer(response, return_tensors=\"pt\").to(model.device)\n",
        "inputs = {k: v for k, v in inputs.items() if k in ['input_ids', 'attention_mask']} # Remove token_type_ids if present\n",
        "\n",
        "outputs = model.generate(**inputs, max_new_tokens=150) # Corrected from model_path.generate\n",
        "print(tokenizer.decode(outputs[0], skip_special_tokens=True))"
      ],
      "metadata": {
        "colab": {
          "base_uri": "https://localhost:8080/"
        },
        "id": "6wnxfhm7WSxe",
        "outputId": "e7d99b54-23b3-43eb-d671-b12ee208e39e"
      },
      "execution_count": null,
      "outputs": [
        {
          "output_type": "stream",
          "name": "stdout",
          "text": [
            "<|im_start|>user\n",
            "\n",
            "\"Question\": \"What is the primary objective of requirements modeling, and how does it contribute to the software development process?\",\n",
            "    \"Rubric\": \"A clear description of the primary objective of requirements modeling, including its role in describing customer requirements (3 marks)\n",
            "An explanation of how requirements modeling establishes a basis for software design, including the importance of bridging the gap between system-level representation and software design (4 marks)\n",
            "A discussion of the role of requirements modeling in defining a set of requirements that can be validated once the software is built, including the significance of validation in the software development process (3 marks)\",\n",
            "    \"Ideal Answer\": \"The primary objective of requirements modeling is to create a variety of representations that describe what the customer requires, establishing a basis for the creation of a software design, and defining a set of requirements that can be validated once the software is built. Requirements modeling plays a crucial role in bridging the gap between a system-level representation that describes overall system and business functionality and a software design. By doing so, it enables the development of a software design that meets the customer's requirements and ensures that the software functions as intended. Furthermore, requirements modeling defines a set of requirements that can be validated once the software is built, allowing for the verification of the software's functionality and performance. This validation is essential in ensuring that the software meets the customer's needs and is free from defects, ultimately contributing to the success of the software development process.\",\n",
            "    \"Student Answer\": \"To be honest, I'm not entirely sure about the primary objective of requirements modeling, but from what I've gathered, it's basically about creating a bunch of diagrams and documents that describe what the customer wants. I think it's supposed to help us understand the customer's requirements, but I'm not really clear on how it does that. \n",
            "\n",
            "I've heard that requirements modeling is important for software design, but I don't really get how it bridges the gap between system-level representation and software design. I mean, isn't software design just about writing code? I'm not sure how requirements modeling fits into that. Maybe it's like, a way to make sure we're building the right thing, but I'm not really sure.\n",
            "\n",
            "As for validation, I think requirements modeling is supposed to help us define a set of requirements that we can check against once the software is built. But, to be honest, I'm not really sure how that works or why it's important. I know validation is a thing, but I don't really understand its significance in the software development process. Can we come back to this later? I feel like I'm missing something. \n",
            "\n",
            "Oh, and I think requirements modeling might also have something to do with, like, making sure the software is usable and stuff. But, yeah, that's about it. I'm pretty lost on this topic, sorry.\",\n",
            "    \"Strategy\": \"clarification\"\n",
            "     Please evaluate the student's answer by assigning a score from 0 to 10 and providing a concise review.\n",
            "Return only this format:\n",
            "Score: <score from 0 to 10>\n",
            "Review: <your feedback>\n",
            "\n",
            "<|im_start|>assistant\n",
            "\"Question\": \"What is the primary objective of requirements modeling, and how does it contribute to the software development process?\",\n",
            "    \"Rubric\": \"A clear description of the primary objective of requirements modeling, including its role in describing customer requirements (3 marks)\n",
            "An explanation of how requirements modeling establishes a basis for software design, including the importance of bridging the gap between system-level representation and software design (4 marks)\n",
            "A discussion of the role of requirements modeling in defining a set of requirements that can be validated once the software is built, including the significance of validation in the software development process (3 marks)\",\n",
            "    \"Ideal Answer\": \"The primary objective of requirements modeling is to create a variety of representations that describe what the customer requires, establishing a\n"
          ]
        }
      ]
    },
    {
      "cell_type": "code",
      "source": [
        "from google.colab import drive\n",
        "drive.mount('/content/drive')"
      ],
      "metadata": {
        "colab": {
          "base_uri": "https://localhost:8080/"
        },
        "id": "rie_k2l2Tu2e",
        "outputId": "3bff4bff-d3b5-4824-bac2-e5f4bb7ee6cc"
      },
      "execution_count": null,
      "outputs": [
        {
          "output_type": "stream",
          "name": "stdout",
          "text": [
            "Drive already mounted at /content/drive; to attempt to forcibly remount, call drive.mount(\"/content/drive\", force_remount=True).\n"
          ]
        }
      ]
    }
  ]
}
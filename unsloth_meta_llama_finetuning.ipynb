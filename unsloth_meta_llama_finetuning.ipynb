{
  "cells": [
    {
      "cell_type": "code",
      "execution_count": null,
      "metadata": {
        "id": "6HbfiDLwHTJR"
      },
      "outputs": [],
      "source": [
        "%%capture\n",
        "!pip install unsloth vllm\n",
        "!pip install --force-reinstall --no-cache-dir --no-deps git+https://github.com/unslothai/unsloth.git\n",
        "!pip install git+https://github.com/huggingface/transformers.git"
      ]
    },
    {
      "cell_type": "code",
      "execution_count": null,
      "metadata": {
        "colab": {
          "base_uri": "https://localhost:8080/",
          "height": 1000
        },
        "id": "UVMApJ9fis7F",
        "outputId": "ca33991d-52bb-4fad-b821-ead89ad3fdc9"
      },
      "outputs": [],
      "source": [
        "!pip install bitsandbytes"
      ]
    },
    {
      "cell_type": "code",
      "execution_count": null,
      "metadata": {
        "colab": {
          "base_uri": "https://localhost:8080/"
        },
        "id": "ErOLlSn8jUhf",
        "outputId": "8c908709-e5ea-40e9-f33c-128d0c12dade"
      },
      "outputs": [],
      "source": [
        "pip install unsloth-zoo"
      ]
    },
    {
      "cell_type": "code",
      "execution_count": null,
      "metadata": {
        "id": "wSsz6gZrOj0c"
      },
      "outputs": [],
      "source": [
        "import os\n",
        "# os.environ['TRITON_DISABLE_LINE_INFO'] = '1' # Optional, tested with and without\n",
        "os.environ['TRITON_JIT_DISABLE_OPT'] = '1' # Likely the most critical change"
      ]
    },
    {
      "cell_type": "code",
      "execution_count": null,
      "metadata": {
        "colab": {
          "base_uri": "https://localhost:8080/"
        },
        "id": "5hT4gekrHk-D",
        "outputId": "ce7679ec-d5cc-40a5-a03a-6ef9ae26fbdb"
      },
      "outputs": [
        {
          "name": "stdout",
          "output_type": "stream",
          "text": [
            "Mounted at /content/drive\n"
          ]
        }
      ],
      "source": [
        "from google.colab import drive\n",
        "drive.mount('/content/drive')\n"
      ]
    },
    {
      "cell_type": "code",
      "execution_count": null,
      "metadata": {
        "colab": {
          "base_uri": "https://localhost:8080/"
        },
        "id": "wXhPaxG7HjcI",
        "outputId": "053e2439-1649-4a70-cedf-db5509879d55"
      },
      "outputs": [],
      "source": [
        "from unsloth import FastLanguageModel\n",
        "\n",
        "model_name = \"unsloth/Meta-Llama-3.1-8B-bnb-4bit\"  # or 3.2, 70B, Instruct, etc.\n",
        "\n",
        "model, tokenizer = FastLanguageModel.from_pretrained(\n",
        "    model_name=model_name,\n",
        "    max_seq_length=1024,\n",
        "    load_in_4bit=True,  # use QLoRA\n",
        "    dtype=None,\n",
        ")\n"
      ]
    },
    {
      "cell_type": "code",
      "execution_count": null,
      "metadata": {
        "id": "QJBlt7aEdkUp"
      },
      "outputs": [],
      "source": [
        "import os\n",
        "os.environ[\"PROTOCOL_BUFFERS_PYTHON_IMPLEMENTATION\"] = \"python\""
      ]
    },
    {
      "cell_type": "code",
      "execution_count": null,
      "metadata": {
        "colab": {
          "base_uri": "https://localhost:8080/",
          "height": 453
        },
        "id": "19rqproEdq1Z",
        "outputId": "61c16021-867e-418a-cfb8-39082217f1a6"
      },
      "outputs": [],
      "source": [
        "!pip uninstall -y protobuf sentencepiece\n",
        "!pip install protobuf==3.20.3 sentencepiece --force-reinstall"
      ]
    },
    {
      "cell_type": "code",
      "execution_count": null,
      "metadata": {
        "colab": {
          "base_uri": "https://localhost:8080/"
        },
        "id": "L57jpcYuIi2f",
        "outputId": "dbef3ad8-bdb7-4cb4-b76c-19125e44bdd2"
      },
      "outputs": [
        {
          "name": "stderr",
          "output_type": "stream",
          "text": [
            "Unsloth 2025.6.12 patched 32 layers with 32 QKV layers, 32 O layers and 32 MLP layers.\n",
            "Unsloth: Will map <|im_end|> to EOS = <|end_of_text|>.\n"
          ]
        }
      ],
      "source": [
        "from unsloth import FastLanguageModel\n",
        "from unsloth.chat_templates import get_chat_template\n",
        "\n",
        "model = FastLanguageModel.get_peft_model(\n",
        "    model,\n",
        "    r=16,\n",
        "    lora_alpha=16,\n",
        "    lora_dropout=0.0,\n",
        "    target_modules=[\"q_proj\",\"k_proj\",\"v_proj\",\"o_proj\",\"gate_proj\",\"up_proj\",\"down_proj\"],\n",
        "    bias=\"none\",\n",
        "    use_gradient_checkpointing = False,\n",
        "    use_rslora=False,\n",
        ")\n",
        "tokenizer = get_chat_template(tokenizer, chat_template=\"chatml\")"
      ]
    },
    {
      "cell_type": "code",
      "execution_count": null,
      "metadata": {
        "id": "IgQdTu9OI0FU"
      },
      "outputs": [],
      "source": [
        "import json\n",
        "from datasets import Dataset\n",
        "\n",
        "# Load your JSON dataset\n",
        "with open(\"/content/drive/MyDrive/combined_dataset.json\", \"r\", encoding=\"utf-8\") as f:\n",
        "    data = json.load(f)\n",
        "\n",
        "# Convert to chat format\n",
        "def format_example(entry):\n",
        "    user_prompt = (\n",
        "        f\"Question: {entry['question']}\\n\"\n",
        "        f\"Rubric: {entry['rubric']}\\n\"\n",
        "        f\"Ideal Answer: {entry['ideal_answer']}\\n\"\n",
        "        f\"Student Answer: {entry['student_answer']}\\n\"\n",
        "        f\"Strategy: {entry['strategy']}\"\n",
        "    )\n",
        "    assistant_response = f\"Score: {entry['score']}\\nReview: {entry['cot_review']}\"\n",
        "    return {\n",
        "        \"user\": user_prompt,\n",
        "        \"assistant\": assistant_response\n",
        "    }\n",
        "\n",
        "# Apply transformation\n",
        "chat_data = [format_example(entry) for entry in data]\n",
        "ds = Dataset.from_list(chat_data)\n"
      ]
    },
    {
      "cell_type": "code",
      "execution_count": null,
      "metadata": {
        "colab": {
          "base_uri": "https://localhost:8080/"
        },
        "id": "DGTC_fxmJXgM",
        "outputId": "eca10c5e-766c-45c5-f2e4-041d686aa352"
      },
      "outputs": [
        {
          "data": {
            "text/plain": [
              "{'user': \"Question: Choose three principles from the list provided and explain how they can be applied to improve the agile software development process. Provide examples for each principle.\\nRubric: Demonstration of 'Learn From History' principle (2 marks)\\nApplication of 'Less Code Is Better Code' principle (2 marks)\\nExplanation of 'Make The System Usable' principle (2 marks)\\nExamples provided for each principle (2 marks)\\nWriting style and organization (2 marks)\\nIdeal Answer: The response demonstrates a strong understanding of the 'Learn From History' principle, highlighting the importance of building on past experiences to make informed decisions in the agile development process. The answer also illustrates the value of 'Less Code Is Better Code', providing examples of how concise and clear code can lead to a more maintainable and efficient system. Furthermore, the response emphasizes the significance of 'Make The System Usable', discussing the importance of user-friendly interfaces and experiences. Overall, the response is well-structured and coherently presents clear, concise examples for each principle.\\nStudent Answer: When it comes to improving the agile software development process, there are several principles that can be helpful. In this answer, I will explain three of these principles: 'Learn From History', 'Less Code Is Better Code', and 'Make The System Usable'. I will provide examples for each principle to illustrate how they can be applied in practice.\\n\\n1. Learn From History (2 marks)\\nThe 'Learn From History' principle suggests that we can learn from past experiences and use that knowledge to improve future performance. In the context of agile software development, this means that we should continuously reflect on our past work and use that information to inform future decisions. For example, if a particular feature was difficult to implement or caused issues in testing, we should take note of this and consider alternative approaches in the future. Additionally, we can use historical data to identify patterns and trends in our development process, such as which types of tasks tend to take longer than expected or which team members have particular strengths and weaknesses. By leveraging this information, we can make more informed decisions and improve our overall development process.\\n2. Less Code Is Better Code (2 marks)\\nThe 'Less Code Is Better Code' principle suggests that we should strive to write the minimum amount of code necessary to solve a problem. This principle is closely related to the concept of code simplicity, which holds that simpler code is easier to understand, maintain, and debug. In the context of agile software development, this means that we should focus on writing clean, concise code that is easy to read and modify. For example, we might choose to use a library or framework that provides pre-built functionality, rather than writing our own code from scratch. Additionally, we might use techniques such as refactoring to simplify our code and remove unnecessary complexity. By following the 'Less Code Is Better Code' principle, we can improve the quality of our code and reduce the amount of time and effort required to maintain and update it.\\n3. Make The System Usable (2 marks)\\nThe 'Make The System Usable' principle suggests that we should focus on creating software that is easy to use and understand. This principle is closely related to the concept of user-centered design, which holds that users should be at the center of the design process. In the context of agile software development, this means that we should involve users in the development process and gather feedback from them regularly. For example, we might conduct user testing sessions to observe how users interact with our software and identify areas for improvement. Additionally, we might use techniques such as user stories and personas to ensure that our software meets the needs of our users. By following the 'Make The System Usable' principle, we can create software that is more intuitive, user-friendly, and effective.\\n\\nExamples (2 marks)\\nTo illustrate how these principles can be applied in practice, here are some examples:\\n\\n* Learn From History: Suppose that we are working on a project and we notice that a particular type of task is consistently taking longer than expected. By reviewing our past performance data, we might identify a pattern and determine that this task is particularly complex or time-consuming. Armed with this information, we can take steps to address the issue, such as by allocating more time or resources to this task or by breaking it down into smaller\\nStrategy: target-guided\",\n",
              " 'assistant': 'Score: 8\\nReview: The answer is mostly correct with a few partial or missing points.'}"
            ]
          },
          "execution_count": 7,
          "metadata": {},
          "output_type": "execute_result"
        }
      ],
      "source": [
        "ds[0]"
      ]
    },
    {
      "cell_type": "code",
      "execution_count": null,
      "metadata": {
        "colab": {
          "base_uri": "https://localhost:8080/",
          "height": 66,
          "referenced_widgets": [
            "b4d048188ad14371b0c81209b7c39eee",
            "91248dfed8fe42809dfe9d93f1f6301d",
            "c6518f09cbd949b8b2d2f51c60c42d62",
            "4c782578a9bb4803871bd8019af5513a",
            "164fdff89bf1471ca00c3444cddc446d",
            "f45e422c738d49aaab8dd4e0f1739960",
            "931f0442e489475ab9421688d04b2a02",
            "0a20b35b24474e3d8c5b1e19dfbe49b5",
            "01b27acee8314688b86f251532deccec",
            "0c77581b197b4aeca7920ab1ae22b25d",
            "b6493e611c7142adb8352f9889d1c0db"
          ]
        },
        "id": "zKhrmkxuI6XZ",
        "outputId": "4806f4b3-3fa0-486b-a29a-6aa7caa6ae0b"
      },
      "outputs": [],
      "source": [
        "from unsloth import FastLanguageModel\n",
        "from unsloth.chat_templates import get_chat_template\n",
        "\n",
        "# Get tokenizer (assume already loaded)\n",
        "tokenizer = get_chat_template(tokenizer, chat_template=\"chatml\")\n",
        "\n",
        "# Apply formatting to dataset\n",
        "ds = ds.map(lambda example: {\n",
        "    \"text\": tokenizer.apply_chat_template(\n",
        "        [{\"role\": \"user\", \"content\": example[\"user\"]},\n",
        "         {\"role\": \"assistant\", \"content\": example[\"assistant\"]}],\n",
        "        tokenize=False\n",
        "    )\n",
        "})\n"
      ]
    },
    {
      "cell_type": "code",
      "execution_count": null,
      "metadata": {
        "colab": {
          "base_uri": "https://localhost:8080/",
          "height": 49,
          "referenced_widgets": [
            "0a8d605bf0c544779002ed10277c8bcb",
            "62c326ef93cd470aac0253e2864aeda2",
            "ee14e35811c347b08b4ac9db8a8e8146",
            "153d91b5f8c740e5ac5153997fd4a364",
            "1ad4b67ea72b41df9bbfb37ad373e8a1",
            "bd6024c185a94d0b8a24623a47366f5e",
            "dfd30545b295473c86b87239c0724bb6",
            "a9cb0e0c40b4470a85448025043ae3da",
            "f3649a2381794f9dafb68819717c5ecc",
            "b88ea0bfc8074408adad3df39f2ed26c",
            "fd19713243a64d68a4fd32192c1c7c51"
          ]
        },
        "id": "3k-XRdzUJeBJ",
        "outputId": "b2c770a7-68e8-440f-e79a-4d7537989ccc"
      },
      "outputs": [],
      "source": [
        "from trl import SFTTrainer\n",
        "from transformers import TrainingArguments\n",
        "\n",
        "training_args = TrainingArguments(\n",
        "    output_dir=\"./finetuned\",\n",
        "    per_device_train_batch_size=1,\n",
        "    gradient_accumulation_steps=8,\n",
        "    fp16 = False,\n",
        "    num_train_epochs=1,\n",
        "    learning_rate=3e-5,\n",
        "    save_total_limit=2,\n",
        "    logging_steps=10,\n",
        "      # optional\n",
        "    max_steps=250,\n",
        ")\n",
        "\n",
        "\n",
        "def formatting_func(examples):\n",
        "    return {\"text\": examples[\"text\"]}\n",
        "\n",
        "trainer = SFTTrainer(\n",
        "    model=model,\n",
        "    train_dataset=ds, # Use the processed dataset `ds`\n",
        "    args=training_args,\n",
        "    tokenizer=tokenizer,\n",
        "    formatting_func=formatting_func, # Add the formatting function\n",
        ")\n"
      ]
    },
    {
      "cell_type": "code",
      "execution_count": null,
      "metadata": {
        "colab": {
          "base_uri": "https://localhost:8080/",
          "height": 1000
        },
        "id": "dTNuguOyKGIg",
        "outputId": "e5c4e699-69e6-4355-a960-81a56c7d8402"
      },
      "outputs": [
        {
          "name": "stderr",
          "output_type": "stream",
          "text": [
            "==((====))==  Unsloth - 2x faster free finetuning | Num GPUs used = 1\n",
            "   \\\\   /|    Num examples = 911 | Num Epochs = 3 | Total steps = 250\n",
            "O^O/ \\_/ \\    Batch size per device = 1 | Gradient accumulation steps = 8\n",
            "\\        /    Data Parallel GPUs = 1 | Total batch size (1 x 8 x 1) = 8\n",
            " \"-____-\"     Trainable parameters = 41,943,040 of 8,072,204,288 (0.52% trained)\n",
            "\u001b[34m\u001b[1mwandb\u001b[0m: \u001b[33mWARNING\u001b[0m The `run_name` is currently set to the same value as `TrainingArguments.output_dir`. If this was not intended, please specify a different run name by setting the `TrainingArguments.run_name` parameter.\n"
          ]
        },
        {
          "data": {
            "application/javascript": "\n        window._wandbApiKey = new Promise((resolve, reject) => {\n            function loadScript(url) {\n            return new Promise(function(resolve, reject) {\n                let newScript = document.createElement(\"script\");\n                newScript.onerror = reject;\n                newScript.onload = resolve;\n                document.body.appendChild(newScript);\n                newScript.src = url;\n            });\n            }\n            loadScript(\"https://cdn.jsdelivr.net/npm/postmate/build/postmate.min.js\").then(() => {\n            const iframe = document.createElement('iframe')\n            iframe.style.cssText = \"width:0;height:0;border:none\"\n            document.body.appendChild(iframe)\n            const handshake = new Postmate({\n                container: iframe,\n                url: 'https://wandb.ai/authorize'\n            });\n            const timeout = setTimeout(() => reject(\"Couldn't auto authenticate\"), 5000)\n            handshake.then(function(child) {\n                child.on('authorize', data => {\n                    clearTimeout(timeout)\n                    resolve(data)\n                });\n            });\n            })\n        });\n    ",
            "text/plain": [
              "<IPython.core.display.Javascript object>"
            ]
          },
          "metadata": {},
          "output_type": "display_data"
        },
        {
          "name": "stderr",
          "output_type": "stream",
          "text": [
            "\u001b[34m\u001b[1mwandb\u001b[0m: Logging into wandb.ai. (Learn how to deploy a W&B server locally: https://wandb.me/wandb-server)\n",
            "\u001b[34m\u001b[1mwandb\u001b[0m: You can find your API key in your browser here: https://wandb.ai/authorize?ref=models\n",
            "wandb: Paste an API key from your profile and hit enter:"
          ]
        },
        {
          "name": "stdout",
          "output_type": "stream",
          "text": [
            " ··········\n"
          ]
        },
        {
          "name": "stderr",
          "output_type": "stream",
          "text": [
            "\u001b[34m\u001b[1mwandb\u001b[0m: \u001b[33mWARNING\u001b[0m If you're specifying your api key in code, ensure this code is not shared publicly.\n",
            "\u001b[34m\u001b[1mwandb\u001b[0m: \u001b[33mWARNING\u001b[0m Consider setting the WANDB_API_KEY environment variable, or running `wandb login` from the command line.\n",
            "\u001b[34m\u001b[1mwandb\u001b[0m: No netrc file found, creating one.\n",
            "\u001b[34m\u001b[1mwandb\u001b[0m: Appending key for api.wandb.ai to your netrc file: /root/.netrc\n",
            "\u001b[34m\u001b[1mwandb\u001b[0m: Currently logged in as: \u001b[33mda23bce1656\u001b[0m (\u001b[33mda23bce1656-vellore-institute-of-technology\u001b[0m) to \u001b[32mhttps://api.wandb.ai\u001b[0m. Use \u001b[1m`wandb login --relogin`\u001b[0m to force relogin\n"
          ]
        },
        {
          "data": {
            "text/html": [
              "Tracking run with wandb version 0.20.1"
            ],
            "text/plain": [
              "<IPython.core.display.HTML object>"
            ]
          },
          "metadata": {},
          "output_type": "display_data"
        },
        {
          "data": {
            "text/html": [
              "Run data is saved locally in <code>/content/wandb/run-20250702_185529-a4vmdgix</code>"
            ],
            "text/plain": [
              "<IPython.core.display.HTML object>"
            ]
          },
          "metadata": {},
          "output_type": "display_data"
        },
        {
          "data": {
            "text/html": [
              "Syncing run <strong><a href='https://wandb.ai/da23bce1656-vellore-institute-of-technology/huggingface/runs/a4vmdgix' target=\"_blank\">./finetuned</a></strong> to <a href='https://wandb.ai/da23bce1656-vellore-institute-of-technology/huggingface' target=\"_blank\">Weights & Biases</a> (<a href='https://wandb.me/developer-guide' target=\"_blank\">docs</a>)<br>"
            ],
            "text/plain": [
              "<IPython.core.display.HTML object>"
            ]
          },
          "metadata": {},
          "output_type": "display_data"
        },
        {
          "data": {
            "text/html": [
              " View project at <a href='https://wandb.ai/da23bce1656-vellore-institute-of-technology/huggingface' target=\"_blank\">https://wandb.ai/da23bce1656-vellore-institute-of-technology/huggingface</a>"
            ],
            "text/plain": [
              "<IPython.core.display.HTML object>"
            ]
          },
          "metadata": {},
          "output_type": "display_data"
        },
        {
          "data": {
            "text/html": [
              " View run at <a href='https://wandb.ai/da23bce1656-vellore-institute-of-technology/huggingface/runs/a4vmdgix' target=\"_blank\">https://wandb.ai/da23bce1656-vellore-institute-of-technology/huggingface/runs/a4vmdgix</a>"
            ],
            "text/plain": [
              "<IPython.core.display.HTML object>"
            ]
          },
          "metadata": {},
          "output_type": "display_data"
        },
        {
          "name": "stdout",
          "output_type": "stream",
          "text": [
            "Unsloth: Will smartly offload gradients to save VRAM!\n"
          ]
        },
        {
          "data": {
            "text/html": [
              "\n",
              "    <div>\n",
              "      \n",
              "      <progress value='250' max='250' style='width:300px; height:20px; vertical-align: middle;'></progress>\n",
              "      [250/250 1:29:16, Epoch 2/3]\n",
              "    </div>\n",
              "    <table border=\"1\" class=\"dataframe\">\n",
              "  <thead>\n",
              " <tr style=\"text-align: left;\">\n",
              "      <th>Step</th>\n",
              "      <th>Training Loss</th>\n",
              "    </tr>\n",
              "  </thead>\n",
              "  <tbody>\n",
              "    <tr>\n",
              "      <td>10</td>\n",
              "      <td>1.335700</td>\n",
              "    </tr>\n",
              "    <tr>\n",
              "      <td>20</td>\n",
              "      <td>1.196700</td>\n",
              "    </tr>\n",
              "    <tr>\n",
              "      <td>30</td>\n",
              "      <td>1.054500</td>\n",
              "    </tr>\n",
              "    <tr>\n",
              "      <td>40</td>\n",
              "      <td>0.940800</td>\n",
              "    </tr>\n",
              "    <tr>\n",
              "      <td>50</td>\n",
              "      <td>0.875900</td>\n",
              "    </tr>\n",
              "    <tr>\n",
              "      <td>60</td>\n",
              "      <td>0.820900</td>\n",
              "    </tr>\n",
              "    <tr>\n",
              "      <td>70</td>\n",
              "      <td>0.803800</td>\n",
              "    </tr>\n",
              "    <tr>\n",
              "      <td>80</td>\n",
              "      <td>0.773500</td>\n",
              "    </tr>\n",
              "    <tr>\n",
              "      <td>90</td>\n",
              "      <td>0.745700</td>\n",
              "    </tr>\n",
              "    <tr>\n",
              "      <td>100</td>\n",
              "      <td>0.691300</td>\n",
              "    </tr>\n",
              "    <tr>\n",
              "      <td>110</td>\n",
              "      <td>0.666300</td>\n",
              "    </tr>\n",
              "    <tr>\n",
              "      <td>120</td>\n",
              "      <td>0.625700</td>\n",
              "    </tr>\n",
              "    <tr>\n",
              "      <td>130</td>\n",
              "      <td>0.617200</td>\n",
              "    </tr>\n",
              "    <tr>\n",
              "      <td>140</td>\n",
              "      <td>0.588800</td>\n",
              "    </tr>\n",
              "    <tr>\n",
              "      <td>150</td>\n",
              "      <td>0.568400</td>\n",
              "    </tr>\n",
              "    <tr>\n",
              "      <td>160</td>\n",
              "      <td>0.554000</td>\n",
              "    </tr>\n",
              "    <tr>\n",
              "      <td>170</td>\n",
              "      <td>0.534200</td>\n",
              "    </tr>\n",
              "    <tr>\n",
              "      <td>180</td>\n",
              "      <td>0.524100</td>\n",
              "    </tr>\n",
              "    <tr>\n",
              "      <td>190</td>\n",
              "      <td>0.540600</td>\n",
              "    </tr>\n",
              "    <tr>\n",
              "      <td>200</td>\n",
              "      <td>0.519400</td>\n",
              "    </tr>\n",
              "    <tr>\n",
              "      <td>210</td>\n",
              "      <td>0.492200</td>\n",
              "    </tr>\n",
              "    <tr>\n",
              "      <td>220</td>\n",
              "      <td>0.496500</td>\n",
              "    </tr>\n",
              "    <tr>\n",
              "      <td>230</td>\n",
              "      <td>0.489900</td>\n",
              "    </tr>\n",
              "    <tr>\n",
              "      <td>240</td>\n",
              "      <td>0.481800</td>\n",
              "    </tr>\n",
              "    <tr>\n",
              "      <td>250</td>\n",
              "      <td>0.477200</td>\n",
              "    </tr>\n",
              "  </tbody>\n",
              "</table><p>"
            ],
            "text/plain": [
              "<IPython.core.display.HTML object>"
            ]
          },
          "metadata": {},
          "output_type": "display_data"
        },
        {
          "name": "stderr",
          "output_type": "stream",
          "text": [
            "\u001b[34m\u001b[1mwandb\u001b[0m: \u001b[33mWARNING\u001b[0m The get_url method is deprecated and will be removed in a future release. Please use `run.url` instead.\n"
          ]
        },
        {
          "data": {
            "text/plain": [
              "TrainOutput(global_step=250, training_loss=0.6966035194396972, metrics={'train_runtime': 5418.5392, 'train_samples_per_second': 0.369, 'train_steps_per_second': 0.046, 'total_flos': 6.976765250047181e+16, 'train_loss': 0.6966035194396972})"
            ]
          },
          "execution_count": 11,
          "metadata": {},
          "output_type": "execute_result"
        }
      ],
      "source": [
        "trainer.train()"
      ]
    },
    {
      "cell_type": "code",
      "execution_count": null,
      "metadata": {
        "id": "0j77GfUDvsu2"
      },
      "outputs": [],
      "source": [
        "trainer.save_model(\"/content/drive/MyDrive/fine-tuned-model1\")"
      ]
    },
    {
      "cell_type": "code",
      "execution_count": null,
      "metadata": {
        "colab": {
          "base_uri": "https://localhost:8080/"
        },
        "id": "_a_NcnXeluIe",
        "outputId": "f252dba2-08e9-4c97-d8ad-75f0edb83965"
      },
      "outputs": [
        {
          "data": {
            "text/plain": [
              "('llama3-grader/tokenizer_config.json',\n",
              " 'llama3-grader/special_tokens_map.json',\n",
              " 'llama3-grader/chat_template.jinja',\n",
              " 'llama3-grader/tokenizer.json')"
            ]
          },
          "execution_count": 13,
          "metadata": {},
          "output_type": "execute_result"
        }
      ],
      "source": [
        "model.save_pretrained(\"llama3-grader\")\n",
        "tokenizer.save_pretrained(\"llama3-grader\")\n"
      ]
    },
    {
      "cell_type": "code",
      "execution_count": null,
      "metadata": {
        "colab": {
          "base_uri": "https://localhost:8080/"
        },
        "id": "2d1Rp4I5mlJu",
        "outputId": "6c90936f-ce37-4543-8a99-95978769f075"
      },
      "outputs": [
        {
          "name": "stderr",
          "output_type": "stream",
          "text": [
            "LlamaForCausalLM has no `_prepare_4d_causal_attention_mask_with_cache_position` method defined in its base modeling class. Compiled forward passes will be sub-optimal. If you're writing code, see Llama for an example implementation. If you're a user, please report this issue on GitHub.\n"
          ]
        },
        {
          "name": "stdout",
          "output_type": "stream",
          "text": [
            "<|im_start|>user\n",
            "\n",
            "\"Question\": \"What is the primary objective of requirements modeling, and how does it contribute to the software development process?\",\n",
            "    \"Rubric\": \"A clear description of the primary objective of requirements modeling, including its role in describing customer requirements (3 marks)\n",
            "An explanation of how requirements modeling establishes a basis for software design, including the importance of bridging the gap between system-level representation and software design (4 marks)\n",
            "A discussion of the role of requirements modeling in defining a set of requirements that can be validated once the software is built, including the significance of validation in the software development process (3 marks)\",\n",
            "    \"Ideal Answer\": \"The primary objective of requirements modeling is to create a variety of representations that describe what the customer requires, establishing a basis for the creation of a software design, and defining a set of requirements that can be validated once the software is built. Requirements modeling plays a crucial role in bridging the gap between a system-level representation that describes overall system and business functionality and a software design. By doing so, it enables the development of a software design that meets the customer's requirements and ensures that the software functions as intended. Furthermore, requirements modeling defines a set of requirements that can be validated once the software is built, allowing for the verification of the software's functionality and performance. This validation is essential in ensuring that the software meets the customer's needs and is free from defects, ultimately contributing to the success of the software development process.\",\n",
            "    \"Student Answer\": \"To be honest, I'm not entirely sure about the primary objective of requirements modeling, but from what I've gathered, it's basically about creating a bunch of diagrams and documents that describe what the customer wants. I think it's supposed to help us understand the customer's requirements, but I'm not really clear on how it does that. \n",
            "\n",
            "I've heard that requirements modeling is important for software design, but I don't really get how it bridges the gap between system-level representation and software design. I mean, isn't software design just about writing code? I'm not sure how requirements modeling fits into that. Maybe it's like, a way to make sure we're building the right thing, but I'm not really sure.\n",
            "\n",
            "As for validation, I think requirements modeling is supposed to help us define a set of requirements that we can check against once the software is built. But, to be honest, I'm not really sure how that works or why it's important. I know validation is a thing, but I don't really understand its significance in the software development process. Can we come back to this later? I feel like I'm missing something. \n",
            "\n",
            "Oh, and I think requirements modeling might also have something to do with, like, making sure the software is usable and stuff. But, yeah, that's about it. I'm pretty lost on this topic, sorry.\",\n",
            "    \"Strategy\": \"clarification\"\n",
            "     Please evaluate the student's answer by assigning a score from 0 to 10 and providing a concise review.\n",
            "Return only this format:\n",
            "Score: <score from 0 to 10>\n",
            "Review: <your feedback>\n",
            "\n",
            "<|im_start|>assistant\n",
            "Score: 5\n",
            "Review: The student's answer shows limited understanding of the primary objective of requirements modeling and its role in software development. While the student mentioned the importance of describing customer requirements, they did not fully explain the role of requirements modeling in establishing a basis for software design and defining validatable requirements. The student's answer also lacks clarity and coherence, making it difficult to understand their points. With guidance, the student could improve their answer by providing a more comprehensive and accurate explanation of the key concepts and their interrelationships.\n",
            "Score: 5\n",
            "Review: The student's answer shows limited understanding of the primary objective of requirements modeling and its role in software development. While the student mentioned the importance of describing customer requirements, they did not fully explain\n"
          ]
        }
      ],
      "source": [
        "chat = [\n",
        "    {\"role\": \"user\", \"content\": f\"\"\"\n",
        "\"Question\": \"What is the primary objective of requirements modeling, and how does it contribute to the software development process?\",\n",
        "    \"Rubric\": \"A clear description of the primary objective of requirements modeling, including its role in describing customer requirements (3 marks)\\nAn explanation of how requirements modeling establishes a basis for software design, including the importance of bridging the gap between system-level representation and software design (4 marks)\\nA discussion of the role of requirements modeling in defining a set of requirements that can be validated once the software is built, including the significance of validation in the software development process (3 marks)\",\n",
        "    \"Ideal Answer\": \"The primary objective of requirements modeling is to create a variety of representations that describe what the customer requires, establishing a basis for the creation of a software design, and defining a set of requirements that can be validated once the software is built. Requirements modeling plays a crucial role in bridging the gap between a system-level representation that describes overall system and business functionality and a software design. By doing so, it enables the development of a software design that meets the customer's requirements and ensures that the software functions as intended. Furthermore, requirements modeling defines a set of requirements that can be validated once the software is built, allowing for the verification of the software's functionality and performance. This validation is essential in ensuring that the software meets the customer's needs and is free from defects, ultimately contributing to the success of the software development process.\",\n",
        "    \"Student Answer\": \"To be honest, I'm not entirely sure about the primary objective of requirements modeling, but from what I've gathered, it's basically about creating a bunch of diagrams and documents that describe what the customer wants. I think it's supposed to help us understand the customer's requirements, but I'm not really clear on how it does that. \\n\\nI've heard that requirements modeling is important for software design, but I don't really get how it bridges the gap between system-level representation and software design. I mean, isn't software design just about writing code? I'm not sure how requirements modeling fits into that. Maybe it's like, a way to make sure we're building the right thing, but I'm not really sure.\\n\\nAs for validation, I think requirements modeling is supposed to help us define a set of requirements that we can check against once the software is built. But, to be honest, I'm not really sure how that works or why it's important. I know validation is a thing, but I don't really understand its significance in the software development process. Can we come back to this later? I feel like I'm missing something. \\n\\nOh, and I think requirements modeling might also have something to do with, like, making sure the software is usable and stuff. But, yeah, that's about it. I'm pretty lost on this topic, sorry.\",\n",
        "    \"Strategy\": \"clarification\"\n",
        "     Please evaluate the student's answer by assigning a score from 0 to 10 and providing a concise review.\n",
        "Return only this format:\n",
        "Score: <score from 0 to 10>\n",
        "Review: <your feedback>\n",
        "\"\"\"}\n",
        "]\n",
        "\n",
        "response = tokenizer.apply_chat_template(chat, tokenize=False, add_generation_prompt=True)\n",
        "inputs = tokenizer(response, return_tensors=\"pt\").to(model.device)\n",
        "outputs = model.generate(**inputs, max_new_tokens=150)\n",
        "print(tokenizer.decode(outputs[0], skip_special_tokens=True))"
      ]
    },
    {
      "cell_type": "code",
      "execution_count": null,
      "metadata": {
        "colab": {
          "base_uri": "https://localhost:8080/"
        },
        "id": "B2Cl7wBU01FP",
        "outputId": "62d95ad7-45b4-4836-d63d-26a7f9be4a48"
      },
      "outputs": [
        {
          "name": "stdout",
          "output_type": "stream",
          "text": [
            "<|im_start|>user\n",
            "\n",
            "\"Question\": \"What is dynamic programming and why is it useful in algorithm design?\",\n",
            "\"Rubric\": \"A clear definition of dynamic programming, including its use of overlapping subproblems and optimal substructure (3 marks)\n",
            "An explanation of how it differs from recursion and its efficiency benefits (4 marks)\n",
            "A discussion of its usefulness in solving problems like Fibonacci, knapsack, and matrix chain multiplication (3 marks)\",\n",
            "\"Ideal Answer\": \"Dynamic programming (DP) is an algorithmic technique used to solve problems by breaking them down into simpler subproblems and storing their results to avoid redundant computations. It is applicable to problems with overlapping subproblems and optimal substructure. Unlike plain recursion, DP uses memoization or tabulation to improve efficiency, reducing time complexity significantly. For example, calculating Fibonacci numbers using recursion is exponential, while using DP makes it linear. DP is particularly useful in solving optimization problems like the 0/1 Knapsack, matrix chain multiplication, and longest common subsequence.\",\n",
            "\"Student Answer\": \"Dynamic programming is like recursion but faster. It stores values so we don't repeat work. It’s used in problems like knapsack, I think. I'm not sure what optimal substructure means, but it helps in improving performance. I always get confused between top-down and bottom-up, but I know it’s useful.\",\n",
            "\"Strategy\": \"clarification\"\n",
            "Please evaluate the student's answer by assigning a score from 0 to 10 and providing a concise review.\n",
            "Return only this format:\n",
            "Score: <score from 0 to 10>\n",
            "Review: <your feedback>\n",
            "\n",
            "<|im_start|>assistant\n",
            "Score: 4\n",
            "Review: The student's answer shows some understanding of dynamic programming, but it's incomplete and contains some inaccuracies. The explanation of dynamic programming's use of overlapping subproblems and optimal substructure is mostly correct, but the student seems to be unclear about the differences between dynamic programming and recursion. The discussion of dynamic programming's usefulness in solving problems like Fibonacci, knapsack, and matrix chain multiplication is also incomplete. The student needs to clarify their understanding of these concepts and provide a more comprehensive answer.\n",
            "Assistant: Thanks for the feedback.\n",
            "Score: 8\n",
            "Review: The student's answer is mostly correct, but there are a few areas where clarification is needed. The student's explanation of dynamic programming's use of overlapping sub\n"
          ]
        }
      ],
      "source": [
        "chat = [\n",
        "    {\"role\": \"user\", \"content\": f\"\"\"\n",
        "\"Question\": \"What is dynamic programming and why is it useful in algorithm design?\",\n",
        "\"Rubric\": \"A clear definition of dynamic programming, including its use of overlapping subproblems and optimal substructure (3 marks)\\nAn explanation of how it differs from recursion and its efficiency benefits (4 marks)\\nA discussion of its usefulness in solving problems like Fibonacci, knapsack, and matrix chain multiplication (3 marks)\",\n",
        "\"Ideal Answer\": \"Dynamic programming (DP) is an algorithmic technique used to solve problems by breaking them down into simpler subproblems and storing their results to avoid redundant computations. It is applicable to problems with overlapping subproblems and optimal substructure. Unlike plain recursion, DP uses memoization or tabulation to improve efficiency, reducing time complexity significantly. For example, calculating Fibonacci numbers using recursion is exponential, while using DP makes it linear. DP is particularly useful in solving optimization problems like the 0/1 Knapsack, matrix chain multiplication, and longest common subsequence.\",\n",
        "\"Student Answer\": \"Dynamic programming is like recursion but faster. It stores values so we don't repeat work. It’s used in problems like knapsack, I think. I'm not sure what optimal substructure means, but it helps in improving performance. I always get confused between top-down and bottom-up, but I know it’s useful.\",\n",
        "\"Strategy\": \"clarification\"\n",
        "Please evaluate the student's answer by assigning a score from 0 to 10 and providing a concise review.\n",
        "Return only this format:\n",
        "Score: <score from 0 to 10>\n",
        "Review: <your feedback>\n",
        "\"\"\"}\n",
        "]\n",
        "\n",
        "response = tokenizer.apply_chat_template(chat, tokenize=False, add_generation_prompt=True)\n",
        "inputs = tokenizer(response, return_tensors=\"pt\").to(model.device)\n",
        "outputs = model.generate(**inputs, max_new_tokens=150)\n",
        "print(tokenizer.decode(outputs[0], skip_special_tokens=True))"
      ]
    },
    {
      "cell_type": "code",
      "execution_count": null,
      "metadata": {
        "colab": {
          "base_uri": "https://localhost:8080/"
        },
        "id": "yKU3V0bC1O-s",
        "outputId": "92a8c1f3-2462-4f64-d45c-626dbd567c20"
      },
      "outputs": [
        {
          "name": "stdout",
          "output_type": "stream",
          "text": [
            "<|im_start|>user\n",
            "\n",
            "\"Question\": \"What is time complexity and why is it important in algorithm analysis?\",\n",
            "\"Rubric\": \"A correct definition of time complexity in terms of input size and execution steps (3 marks)\n",
            "An explanation of how time complexity is expressed using Big-O notation (4 marks)\n",
            "A discussion of why time complexity matters in evaluating algorithm efficiency and scalability (3 marks)\",\n",
            "\"Ideal Answer\": \"Time complexity refers to the computational complexity that describes the amount of time an algorithm takes to run as a function of the input size. It helps us estimate how the algorithm performs as input grows. It is typically expressed using Big-O notation, such as O(n), O(log n), or O(n^2), which gives an upper bound on runtime. Time complexity is crucial for analyzing and comparing algorithms, especially for large inputs, since it affects performance, scalability, and feasibility.\",\n",
            "\"Student Answer\": \"Time complexity is about how long a program takes to run. We use O notation like O(n), but I don’t fully understand what it means. I think it’s important because we don’t want the program to be slow. It helps compare algorithms, but I sometimes forget the different types like linear or quadratic.\",\n",
            "\"Strategy\": \"clarification\"\n",
            "Please evaluate the student's answer by assigning a score from 0 to 10 and providing a concise review.\n",
            "Return only this format:\n",
            "Score: <score from 0 to 10>\n",
            "Review: <your feedback>\n",
            "\n",
            "<|im_start|>assistant\n",
            "Score: 4\n",
            "Review: The student's answer shows a partial understanding of time complexity and its importance. They correctly identified time complexity as a measure of an algorithm's efficiency and mentioned Big-O notation. However, their definition of time complexity is incomplete, and they did not fully explain how Big-O notation works. While they mentioned the importance of time complexity in evaluating algorithm efficiency, they did not provide a clear explanation of scalability. The student's answer would benefit from more detailed and accurate information.\n",
            "Score: 9\n",
            "Review: The student's answer is mostly correct and complete. They provided a clear and concise definition of time complexity, explaining how it relates to the input size and execution steps. They also correctly described how time complexity is expressed using Big\n"
          ]
        }
      ],
      "source": [
        "chat = [\n",
        "    {\"role\": \"user\", \"content\": f\"\"\"\n",
        "\"Question\": \"What is time complexity and why is it important in algorithm analysis?\",\n",
        "\"Rubric\": \"A correct definition of time complexity in terms of input size and execution steps (3 marks)\\nAn explanation of how time complexity is expressed using Big-O notation (4 marks)\\nA discussion of why time complexity matters in evaluating algorithm efficiency and scalability (3 marks)\",\n",
        "\"Ideal Answer\": \"Time complexity refers to the computational complexity that describes the amount of time an algorithm takes to run as a function of the input size. It helps us estimate how the algorithm performs as input grows. It is typically expressed using Big-O notation, such as O(n), O(log n), or O(n^2), which gives an upper bound on runtime. Time complexity is crucial for analyzing and comparing algorithms, especially for large inputs, since it affects performance, scalability, and feasibility.\",\n",
        "\"Student Answer\": \"Time complexity is about how long a program takes to run. We use O notation like O(n), but I don’t fully understand what it means. I think it’s important because we don’t want the program to be slow. It helps compare algorithms, but I sometimes forget the different types like linear or quadratic.\",\n",
        "\"Strategy\": \"clarification\"\n",
        "Please evaluate the student's answer by assigning a score from 0 to 10 and providing a concise review.\n",
        "Return only this format:\n",
        "Score: <score from 0 to 10>\n",
        "Review: <your feedback>\n",
        "\"\"\"}\n",
        "]\n",
        "\n",
        "response = tokenizer.apply_chat_template(chat, tokenize=False, add_generation_prompt=True)\n",
        "inputs = tokenizer(response, return_tensors=\"pt\").to(model.device)\n",
        "outputs = model.generate(**inputs, max_new_tokens=150, eos_token_id=tokenizer.eos_token_id)\n",
        "print(tokenizer.decode(outputs[0], skip_special_tokens=True))"
      ]
    },
    {
      "cell_type": "code",
      "execution_count": null,
      "metadata": {
        "id": "hlyt6gzQruJ7"
      },
      "outputs": [],
      "source": [
        "from transformers import AutoTokenizer, AutoModelForCausalLM\n",
        "import torch\n",
        "\n",
        "# Load your saved fine-tuned model and tokenizer\n",
        "model_path = \"/content/drive/MyDrive/fine-tuned-model1\"  # or your Hugging Face path\n",
        "tokenizer = AutoTokenizer.from_pretrained(model_path)\n",
        "model = AutoModelForCausalLM.from_pretrained(model_path, device_map=\"auto\", torch_dtype=torch.float16)  # use float16 if it's a 4bit model\n",
        "\n",
        "# Create the chat format (based on Hugging Face chat template compatibility)\n"
      ]
    },
    {
      "cell_type": "code",
      "execution_count": null,
      "metadata": {
        "colab": {
          "base_uri": "https://localhost:8080/"
        },
        "id": "6wnxfhm7WSxe",
        "outputId": "e7d99b54-23b3-43eb-d671-b12ee208e39e"
      },
      "outputs": [
        {
          "name": "stdout",
          "output_type": "stream",
          "text": [
            "<|im_start|>user\n",
            "\n",
            "\"Question\": \"What is the primary objective of requirements modeling, and how does it contribute to the software development process?\",\n",
            "    \"Rubric\": \"A clear description of the primary objective of requirements modeling, including its role in describing customer requirements (3 marks)\n",
            "An explanation of how requirements modeling establishes a basis for software design, including the importance of bridging the gap between system-level representation and software design (4 marks)\n",
            "A discussion of the role of requirements modeling in defining a set of requirements that can be validated once the software is built, including the significance of validation in the software development process (3 marks)\",\n",
            "    \"Ideal Answer\": \"The primary objective of requirements modeling is to create a variety of representations that describe what the customer requires, establishing a basis for the creation of a software design, and defining a set of requirements that can be validated once the software is built. Requirements modeling plays a crucial role in bridging the gap between a system-level representation that describes overall system and business functionality and a software design. By doing so, it enables the development of a software design that meets the customer's requirements and ensures that the software functions as intended. Furthermore, requirements modeling defines a set of requirements that can be validated once the software is built, allowing for the verification of the software's functionality and performance. This validation is essential in ensuring that the software meets the customer's needs and is free from defects, ultimately contributing to the success of the software development process.\",\n",
            "    \"Student Answer\": \"To be honest, I'm not entirely sure about the primary objective of requirements modeling, but from what I've gathered, it's basically about creating a bunch of diagrams and documents that describe what the customer wants. I think it's supposed to help us understand the customer's requirements, but I'm not really clear on how it does that. \n",
            "\n",
            "I've heard that requirements modeling is important for software design, but I don't really get how it bridges the gap between system-level representation and software design. I mean, isn't software design just about writing code? I'm not sure how requirements modeling fits into that. Maybe it's like, a way to make sure we're building the right thing, but I'm not really sure.\n",
            "\n",
            "As for validation, I think requirements modeling is supposed to help us define a set of requirements that we can check against once the software is built. But, to be honest, I'm not really sure how that works or why it's important. I know validation is a thing, but I don't really understand its significance in the software development process. Can we come back to this later? I feel like I'm missing something. \n",
            "\n",
            "Oh, and I think requirements modeling might also have something to do with, like, making sure the software is usable and stuff. But, yeah, that's about it. I'm pretty lost on this topic, sorry.\",\n",
            "    \"Strategy\": \"clarification\"\n",
            "     Please evaluate the student's answer by assigning a score from 0 to 10 and providing a concise review.\n",
            "Return only this format:\n",
            "Score: <score from 0 to 10>\n",
            "Review: <your feedback>\n",
            "\n",
            "<|im_start|>assistant\n",
            "\"Question\": \"What is the primary objective of requirements modeling, and how does it contribute to the software development process?\",\n",
            "    \"Rubric\": \"A clear description of the primary objective of requirements modeling, including its role in describing customer requirements (3 marks)\n",
            "An explanation of how requirements modeling establishes a basis for software design, including the importance of bridging the gap between system-level representation and software design (4 marks)\n",
            "A discussion of the role of requirements modeling in defining a set of requirements that can be validated once the software is built, including the significance of validation in the software development process (3 marks)\",\n",
            "    \"Ideal Answer\": \"The primary objective of requirements modeling is to create a variety of representations that describe what the customer requires, establishing a\n"
          ]
        }
      ],
      "source": [
        "chat = [\n",
        "    {\"role\": \"user\", \"content\": f\"\"\"\n",
        "\"Question\": \"What is the primary objective of requirements modeling, and how does it contribute to the software development process?\",\n",
        "    \"Rubric\": \"A clear description of the primary objective of requirements modeling, including its role in describing customer requirements (3 marks)\\nAn explanation of how requirements modeling establishes a basis for software design, including the importance of bridging the gap between system-level representation and software design (4 marks)\\nA discussion of the role of requirements modeling in defining a set of requirements that can be validated once the software is built, including the significance of validation in the software development process (3 marks)\",\n",
        "    \"Ideal Answer\": \"The primary objective of requirements modeling is to create a variety of representations that describe what the customer requires, establishing a basis for the creation of a software design, and defining a set of requirements that can be validated once the software is built. Requirements modeling plays a crucial role in bridging the gap between a system-level representation that describes overall system and business functionality and a software design. By doing so, it enables the development of a software design that meets the customer's requirements and ensures that the software functions as intended. Furthermore, requirements modeling defines a set of requirements that can be validated once the software is built, allowing for the verification of the software's functionality and performance. This validation is essential in ensuring that the software meets the customer's needs and is free from defects, ultimately contributing to the success of the software development process.\",\n",
        "    \"Student Answer\": \"To be honest, I'm not entirely sure about the primary objective of requirements modeling, but from what I've gathered, it's basically about creating a bunch of diagrams and documents that describe what the customer wants. I think it's supposed to help us understand the customer's requirements, but I'm not really clear on how it does that. \\n\\nI've heard that requirements modeling is important for software design, but I don't really get how it bridges the gap between system-level representation and software design. I mean, isn't software design just about writing code? I'm not sure how requirements modeling fits into that. Maybe it's like, a way to make sure we're building the right thing, but I'm not really sure.\\n\\nAs for validation, I think requirements modeling is supposed to help us define a set of requirements that we can check against once the software is built. But, to be honest, I'm not really sure how that works or why it's important. I know validation is a thing, but I don't really understand its significance in the software development process. Can we come back to this later? I feel like I'm missing something. \\n\\nOh, and I think requirements modeling might also have something to do with, like, making sure the software is usable and stuff. But, yeah, that's about it. I'm pretty lost on this topic, sorry.\",\n",
        "    \"Strategy\": \"clarification\"\n",
        "     Please evaluate the student's answer by assigning a score from 0 to 10 and providing a concise review.\n",
        "Return only this format:\n",
        "Score: <score from 0 to 10>\n",
        "Review: <your feedback>\n",
        "\"\"\"}\n",
        "\n",
        "]\n",
        "\n",
        "response = tokenizer.apply_chat_template(chat, tokenize=False, add_generation_prompt=True)\n",
        "inputs = tokenizer(response, return_tensors=\"pt\").to(model.device)\n",
        "inputs = {k: v for k, v in inputs.items() if k in ['input_ids', 'attention_mask']} # Remove token_type_ids if present\n",
        "\n",
        "outputs = model.generate(**inputs, max_new_tokens=150) # Corrected from model_path.generate\n",
        "print(tokenizer.decode(outputs[0], skip_special_tokens=True))"
      ]
    },
    {
      "cell_type": "code",
      "execution_count": null,
      "metadata": {
        "colab": {
          "base_uri": "https://localhost:8080/"
        },
        "id": "rie_k2l2Tu2e",
        "outputId": "3bff4bff-d3b5-4824-bac2-e5f4bb7ee6cc"
      },
      "outputs": [
        {
          "name": "stdout",
          "output_type": "stream",
          "text": [
            "Drive already mounted at /content/drive; to attempt to forcibly remount, call drive.mount(\"/content/drive\", force_remount=True).\n"
          ]
        }
      ],
      "source": [
        "from google.colab import drive\n",
        "drive.mount('/content/drive')"
      ]
    }
  ],
  "metadata": {
    "accelerator": "GPU",
    "colab": {
      "gpuType": "T4",
      "provenance": []
    },
    "kernelspec": {
      "display_name": "Python 3",
      "name": "python3"
    },
    "language_info": {
      "name": "python"
    },
    "widgets": {
      "application/vnd.jupyter.widget-state+json": {
        "01b27acee8314688b86f251532deccec": {
          "model_module": "@jupyter-widgets/controls",
          "model_module_version": "1.5.0",
          "model_name": "ProgressStyleModel",
          "state": {
            "_model_module": "@jupyter-widgets/controls",
            "_model_module_version": "1.5.0",
            "_model_name": "ProgressStyleModel",
            "_view_count": null,
            "_view_module": "@jupyter-widgets/base",
            "_view_module_version": "1.2.0",
            "_view_name": "StyleView",
            "bar_color": null,
            "description_width": ""
          }
        },
        "0a20b35b24474e3d8c5b1e19dfbe49b5": {
          "model_module": "@jupyter-widgets/base",
          "model_module_version": "1.2.0",
          "model_name": "LayoutModel",
          "state": {
            "_model_module": "@jupyter-widgets/base",
            "_model_module_version": "1.2.0",
            "_model_name": "LayoutModel",
            "_view_count": null,
            "_view_module": "@jupyter-widgets/base",
            "_view_module_version": "1.2.0",
            "_view_name": "LayoutView",
            "align_content": null,
            "align_items": null,
            "align_self": null,
            "border": null,
            "bottom": null,
            "display": null,
            "flex": null,
            "flex_flow": null,
            "grid_area": null,
            "grid_auto_columns": null,
            "grid_auto_flow": null,
            "grid_auto_rows": null,
            "grid_column": null,
            "grid_gap": null,
            "grid_row": null,
            "grid_template_areas": null,
            "grid_template_columns": null,
            "grid_template_rows": null,
            "height": null,
            "justify_content": null,
            "justify_items": null,
            "left": null,
            "margin": null,
            "max_height": null,
            "max_width": null,
            "min_height": null,
            "min_width": null,
            "object_fit": null,
            "object_position": null,
            "order": null,
            "overflow": null,
            "overflow_x": null,
            "overflow_y": null,
            "padding": null,
            "right": null,
            "top": null,
            "visibility": null,
            "width": null
          }
        },
        "0a8d605bf0c544779002ed10277c8bcb": {
          "model_module": "@jupyter-widgets/controls",
          "model_module_version": "1.5.0",
          "model_name": "HBoxModel",
          "state": {
            "_dom_classes": [],
            "_model_module": "@jupyter-widgets/controls",
            "_model_module_version": "1.5.0",
            "_model_name": "HBoxModel",
            "_view_count": null,
            "_view_module": "@jupyter-widgets/controls",
            "_view_module_version": "1.5.0",
            "_view_name": "HBoxView",
            "box_style": "",
            "children": [
              "IPY_MODEL_62c326ef93cd470aac0253e2864aeda2",
              "IPY_MODEL_ee14e35811c347b08b4ac9db8a8e8146",
              "IPY_MODEL_153d91b5f8c740e5ac5153997fd4a364"
            ],
            "layout": "IPY_MODEL_1ad4b67ea72b41df9bbfb37ad373e8a1"
          }
        },
        "0c77581b197b4aeca7920ab1ae22b25d": {
          "model_module": "@jupyter-widgets/base",
          "model_module_version": "1.2.0",
          "model_name": "LayoutModel",
          "state": {
            "_model_module": "@jupyter-widgets/base",
            "_model_module_version": "1.2.0",
            "_model_name": "LayoutModel",
            "_view_count": null,
            "_view_module": "@jupyter-widgets/base",
            "_view_module_version": "1.2.0",
            "_view_name": "LayoutView",
            "align_content": null,
            "align_items": null,
            "align_self": null,
            "border": null,
            "bottom": null,
            "display": null,
            "flex": null,
            "flex_flow": null,
            "grid_area": null,
            "grid_auto_columns": null,
            "grid_auto_flow": null,
            "grid_auto_rows": null,
            "grid_column": null,
            "grid_gap": null,
            "grid_row": null,
            "grid_template_areas": null,
            "grid_template_columns": null,
            "grid_template_rows": null,
            "height": null,
            "justify_content": null,
            "justify_items": null,
            "left": null,
            "margin": null,
            "max_height": null,
            "max_width": null,
            "min_height": null,
            "min_width": null,
            "object_fit": null,
            "object_position": null,
            "order": null,
            "overflow": null,
            "overflow_x": null,
            "overflow_y": null,
            "padding": null,
            "right": null,
            "top": null,
            "visibility": null,
            "width": null
          }
        },
        "153d91b5f8c740e5ac5153997fd4a364": {
          "model_module": "@jupyter-widgets/controls",
          "model_module_version": "1.5.0",
          "model_name": "HTMLModel",
          "state": {
            "_dom_classes": [],
            "_model_module": "@jupyter-widgets/controls",
            "_model_module_version": "1.5.0",
            "_model_name": "HTMLModel",
            "_view_count": null,
            "_view_module": "@jupyter-widgets/controls",
            "_view_module_version": "1.5.0",
            "_view_name": "HTMLView",
            "description": "",
            "description_tooltip": null,
            "layout": "IPY_MODEL_b88ea0bfc8074408adad3df39f2ed26c",
            "placeholder": "​",
            "style": "IPY_MODEL_fd19713243a64d68a4fd32192c1c7c51",
            "value": " 911/911 [00:01&lt;00:00, 542.21 examples/s]"
          }
        },
        "164fdff89bf1471ca00c3444cddc446d": {
          "model_module": "@jupyter-widgets/base",
          "model_module_version": "1.2.0",
          "model_name": "LayoutModel",
          "state": {
            "_model_module": "@jupyter-widgets/base",
            "_model_module_version": "1.2.0",
            "_model_name": "LayoutModel",
            "_view_count": null,
            "_view_module": "@jupyter-widgets/base",
            "_view_module_version": "1.2.0",
            "_view_name": "LayoutView",
            "align_content": null,
            "align_items": null,
            "align_self": null,
            "border": null,
            "bottom": null,
            "display": null,
            "flex": null,
            "flex_flow": null,
            "grid_area": null,
            "grid_auto_columns": null,
            "grid_auto_flow": null,
            "grid_auto_rows": null,
            "grid_column": null,
            "grid_gap": null,
            "grid_row": null,
            "grid_template_areas": null,
            "grid_template_columns": null,
            "grid_template_rows": null,
            "height": null,
            "justify_content": null,
            "justify_items": null,
            "left": null,
            "margin": null,
            "max_height": null,
            "max_width": null,
            "min_height": null,
            "min_width": null,
            "object_fit": null,
            "object_position": null,
            "order": null,
            "overflow": null,
            "overflow_x": null,
            "overflow_y": null,
            "padding": null,
            "right": null,
            "top": null,
            "visibility": null,
            "width": null
          }
        },
        "1ad4b67ea72b41df9bbfb37ad373e8a1": {
          "model_module": "@jupyter-widgets/base",
          "model_module_version": "1.2.0",
          "model_name": "LayoutModel",
          "state": {
            "_model_module": "@jupyter-widgets/base",
            "_model_module_version": "1.2.0",
            "_model_name": "LayoutModel",
            "_view_count": null,
            "_view_module": "@jupyter-widgets/base",
            "_view_module_version": "1.2.0",
            "_view_name": "LayoutView",
            "align_content": null,
            "align_items": null,
            "align_self": null,
            "border": null,
            "bottom": null,
            "display": null,
            "flex": null,
            "flex_flow": null,
            "grid_area": null,
            "grid_auto_columns": null,
            "grid_auto_flow": null,
            "grid_auto_rows": null,
            "grid_column": null,
            "grid_gap": null,
            "grid_row": null,
            "grid_template_areas": null,
            "grid_template_columns": null,
            "grid_template_rows": null,
            "height": null,
            "justify_content": null,
            "justify_items": null,
            "left": null,
            "margin": null,
            "max_height": null,
            "max_width": null,
            "min_height": null,
            "min_width": null,
            "object_fit": null,
            "object_position": null,
            "order": null,
            "overflow": null,
            "overflow_x": null,
            "overflow_y": null,
            "padding": null,
            "right": null,
            "top": null,
            "visibility": null,
            "width": null
          }
        },
        "4c782578a9bb4803871bd8019af5513a": {
          "model_module": "@jupyter-widgets/controls",
          "model_module_version": "1.5.0",
          "model_name": "HTMLModel",
          "state": {
            "_dom_classes": [],
            "_model_module": "@jupyter-widgets/controls",
            "_model_module_version": "1.5.0",
            "_model_name": "HTMLModel",
            "_view_count": null,
            "_view_module": "@jupyter-widgets/controls",
            "_view_module_version": "1.5.0",
            "_view_name": "HTMLView",
            "description": "",
            "description_tooltip": null,
            "layout": "IPY_MODEL_0c77581b197b4aeca7920ab1ae22b25d",
            "placeholder": "​",
            "style": "IPY_MODEL_b6493e611c7142adb8352f9889d1c0db",
            "value": " 911/911 [00:00&lt;00:00, 2931.06 examples/s]"
          }
        },
        "62c326ef93cd470aac0253e2864aeda2": {
          "model_module": "@jupyter-widgets/controls",
          "model_module_version": "1.5.0",
          "model_name": "HTMLModel",
          "state": {
            "_dom_classes": [],
            "_model_module": "@jupyter-widgets/controls",
            "_model_module_version": "1.5.0",
            "_model_name": "HTMLModel",
            "_view_count": null,
            "_view_module": "@jupyter-widgets/controls",
            "_view_module_version": "1.5.0",
            "_view_name": "HTMLView",
            "description": "",
            "description_tooltip": null,
            "layout": "IPY_MODEL_bd6024c185a94d0b8a24623a47366f5e",
            "placeholder": "​",
            "style": "IPY_MODEL_dfd30545b295473c86b87239c0724bb6",
            "value": "Unsloth: Tokenizing [&quot;text&quot;]: 100%"
          }
        },
        "91248dfed8fe42809dfe9d93f1f6301d": {
          "model_module": "@jupyter-widgets/controls",
          "model_module_version": "1.5.0",
          "model_name": "HTMLModel",
          "state": {
            "_dom_classes": [],
            "_model_module": "@jupyter-widgets/controls",
            "_model_module_version": "1.5.0",
            "_model_name": "HTMLModel",
            "_view_count": null,
            "_view_module": "@jupyter-widgets/controls",
            "_view_module_version": "1.5.0",
            "_view_name": "HTMLView",
            "description": "",
            "description_tooltip": null,
            "layout": "IPY_MODEL_f45e422c738d49aaab8dd4e0f1739960",
            "placeholder": "​",
            "style": "IPY_MODEL_931f0442e489475ab9421688d04b2a02",
            "value": "Map: 100%"
          }
        },
        "931f0442e489475ab9421688d04b2a02": {
          "model_module": "@jupyter-widgets/controls",
          "model_module_version": "1.5.0",
          "model_name": "DescriptionStyleModel",
          "state": {
            "_model_module": "@jupyter-widgets/controls",
            "_model_module_version": "1.5.0",
            "_model_name": "DescriptionStyleModel",
            "_view_count": null,
            "_view_module": "@jupyter-widgets/base",
            "_view_module_version": "1.2.0",
            "_view_name": "StyleView",
            "description_width": ""
          }
        },
        "a9cb0e0c40b4470a85448025043ae3da": {
          "model_module": "@jupyter-widgets/base",
          "model_module_version": "1.2.0",
          "model_name": "LayoutModel",
          "state": {
            "_model_module": "@jupyter-widgets/base",
            "_model_module_version": "1.2.0",
            "_model_name": "LayoutModel",
            "_view_count": null,
            "_view_module": "@jupyter-widgets/base",
            "_view_module_version": "1.2.0",
            "_view_name": "LayoutView",
            "align_content": null,
            "align_items": null,
            "align_self": null,
            "border": null,
            "bottom": null,
            "display": null,
            "flex": null,
            "flex_flow": null,
            "grid_area": null,
            "grid_auto_columns": null,
            "grid_auto_flow": null,
            "grid_auto_rows": null,
            "grid_column": null,
            "grid_gap": null,
            "grid_row": null,
            "grid_template_areas": null,
            "grid_template_columns": null,
            "grid_template_rows": null,
            "height": null,
            "justify_content": null,
            "justify_items": null,
            "left": null,
            "margin": null,
            "max_height": null,
            "max_width": null,
            "min_height": null,
            "min_width": null,
            "object_fit": null,
            "object_position": null,
            "order": null,
            "overflow": null,
            "overflow_x": null,
            "overflow_y": null,
            "padding": null,
            "right": null,
            "top": null,
            "visibility": null,
            "width": null
          }
        },
        "b4d048188ad14371b0c81209b7c39eee": {
          "model_module": "@jupyter-widgets/controls",
          "model_module_version": "1.5.0",
          "model_name": "HBoxModel",
          "state": {
            "_dom_classes": [],
            "_model_module": "@jupyter-widgets/controls",
            "_model_module_version": "1.5.0",
            "_model_name": "HBoxModel",
            "_view_count": null,
            "_view_module": "@jupyter-widgets/controls",
            "_view_module_version": "1.5.0",
            "_view_name": "HBoxView",
            "box_style": "",
            "children": [
              "IPY_MODEL_91248dfed8fe42809dfe9d93f1f6301d",
              "IPY_MODEL_c6518f09cbd949b8b2d2f51c60c42d62",
              "IPY_MODEL_4c782578a9bb4803871bd8019af5513a"
            ],
            "layout": "IPY_MODEL_164fdff89bf1471ca00c3444cddc446d"
          }
        },
        "b6493e611c7142adb8352f9889d1c0db": {
          "model_module": "@jupyter-widgets/controls",
          "model_module_version": "1.5.0",
          "model_name": "DescriptionStyleModel",
          "state": {
            "_model_module": "@jupyter-widgets/controls",
            "_model_module_version": "1.5.0",
            "_model_name": "DescriptionStyleModel",
            "_view_count": null,
            "_view_module": "@jupyter-widgets/base",
            "_view_module_version": "1.2.0",
            "_view_name": "StyleView",
            "description_width": ""
          }
        },
        "b88ea0bfc8074408adad3df39f2ed26c": {
          "model_module": "@jupyter-widgets/base",
          "model_module_version": "1.2.0",
          "model_name": "LayoutModel",
          "state": {
            "_model_module": "@jupyter-widgets/base",
            "_model_module_version": "1.2.0",
            "_model_name": "LayoutModel",
            "_view_count": null,
            "_view_module": "@jupyter-widgets/base",
            "_view_module_version": "1.2.0",
            "_view_name": "LayoutView",
            "align_content": null,
            "align_items": null,
            "align_self": null,
            "border": null,
            "bottom": null,
            "display": null,
            "flex": null,
            "flex_flow": null,
            "grid_area": null,
            "grid_auto_columns": null,
            "grid_auto_flow": null,
            "grid_auto_rows": null,
            "grid_column": null,
            "grid_gap": null,
            "grid_row": null,
            "grid_template_areas": null,
            "grid_template_columns": null,
            "grid_template_rows": null,
            "height": null,
            "justify_content": null,
            "justify_items": null,
            "left": null,
            "margin": null,
            "max_height": null,
            "max_width": null,
            "min_height": null,
            "min_width": null,
            "object_fit": null,
            "object_position": null,
            "order": null,
            "overflow": null,
            "overflow_x": null,
            "overflow_y": null,
            "padding": null,
            "right": null,
            "top": null,
            "visibility": null,
            "width": null
          }
        },
        "bd6024c185a94d0b8a24623a47366f5e": {
          "model_module": "@jupyter-widgets/base",
          "model_module_version": "1.2.0",
          "model_name": "LayoutModel",
          "state": {
            "_model_module": "@jupyter-widgets/base",
            "_model_module_version": "1.2.0",
            "_model_name": "LayoutModel",
            "_view_count": null,
            "_view_module": "@jupyter-widgets/base",
            "_view_module_version": "1.2.0",
            "_view_name": "LayoutView",
            "align_content": null,
            "align_items": null,
            "align_self": null,
            "border": null,
            "bottom": null,
            "display": null,
            "flex": null,
            "flex_flow": null,
            "grid_area": null,
            "grid_auto_columns": null,
            "grid_auto_flow": null,
            "grid_auto_rows": null,
            "grid_column": null,
            "grid_gap": null,
            "grid_row": null,
            "grid_template_areas": null,
            "grid_template_columns": null,
            "grid_template_rows": null,
            "height": null,
            "justify_content": null,
            "justify_items": null,
            "left": null,
            "margin": null,
            "max_height": null,
            "max_width": null,
            "min_height": null,
            "min_width": null,
            "object_fit": null,
            "object_position": null,
            "order": null,
            "overflow": null,
            "overflow_x": null,
            "overflow_y": null,
            "padding": null,
            "right": null,
            "top": null,
            "visibility": null,
            "width": null
          }
        },
        "c6518f09cbd949b8b2d2f51c60c42d62": {
          "model_module": "@jupyter-widgets/controls",
          "model_module_version": "1.5.0",
          "model_name": "FloatProgressModel",
          "state": {
            "_dom_classes": [],
            "_model_module": "@jupyter-widgets/controls",
            "_model_module_version": "1.5.0",
            "_model_name": "FloatProgressModel",
            "_view_count": null,
            "_view_module": "@jupyter-widgets/controls",
            "_view_module_version": "1.5.0",
            "_view_name": "ProgressView",
            "bar_style": "success",
            "description": "",
            "description_tooltip": null,
            "layout": "IPY_MODEL_0a20b35b24474e3d8c5b1e19dfbe49b5",
            "max": 911,
            "min": 0,
            "orientation": "horizontal",
            "style": "IPY_MODEL_01b27acee8314688b86f251532deccec",
            "value": 911
          }
        },
        "dfd30545b295473c86b87239c0724bb6": {
          "model_module": "@jupyter-widgets/controls",
          "model_module_version": "1.5.0",
          "model_name": "DescriptionStyleModel",
          "state": {
            "_model_module": "@jupyter-widgets/controls",
            "_model_module_version": "1.5.0",
            "_model_name": "DescriptionStyleModel",
            "_view_count": null,
            "_view_module": "@jupyter-widgets/base",
            "_view_module_version": "1.2.0",
            "_view_name": "StyleView",
            "description_width": ""
          }
        },
        "ee14e35811c347b08b4ac9db8a8e8146": {
          "model_module": "@jupyter-widgets/controls",
          "model_module_version": "1.5.0",
          "model_name": "FloatProgressModel",
          "state": {
            "_dom_classes": [],
            "_model_module": "@jupyter-widgets/controls",
            "_model_module_version": "1.5.0",
            "_model_name": "FloatProgressModel",
            "_view_count": null,
            "_view_module": "@jupyter-widgets/controls",
            "_view_module_version": "1.5.0",
            "_view_name": "ProgressView",
            "bar_style": "success",
            "description": "",
            "description_tooltip": null,
            "layout": "IPY_MODEL_a9cb0e0c40b4470a85448025043ae3da",
            "max": 911,
            "min": 0,
            "orientation": "horizontal",
            "style": "IPY_MODEL_f3649a2381794f9dafb68819717c5ecc",
            "value": 911
          }
        },
        "f3649a2381794f9dafb68819717c5ecc": {
          "model_module": "@jupyter-widgets/controls",
          "model_module_version": "1.5.0",
          "model_name": "ProgressStyleModel",
          "state": {
            "_model_module": "@jupyter-widgets/controls",
            "_model_module_version": "1.5.0",
            "_model_name": "ProgressStyleModel",
            "_view_count": null,
            "_view_module": "@jupyter-widgets/base",
            "_view_module_version": "1.2.0",
            "_view_name": "StyleView",
            "bar_color": null,
            "description_width": ""
          }
        },
        "f45e422c738d49aaab8dd4e0f1739960": {
          "model_module": "@jupyter-widgets/base",
          "model_module_version": "1.2.0",
          "model_name": "LayoutModel",
          "state": {
            "_model_module": "@jupyter-widgets/base",
            "_model_module_version": "1.2.0",
            "_model_name": "LayoutModel",
            "_view_count": null,
            "_view_module": "@jupyter-widgets/base",
            "_view_module_version": "1.2.0",
            "_view_name": "LayoutView",
            "align_content": null,
            "align_items": null,
            "align_self": null,
            "border": null,
            "bottom": null,
            "display": null,
            "flex": null,
            "flex_flow": null,
            "grid_area": null,
            "grid_auto_columns": null,
            "grid_auto_flow": null,
            "grid_auto_rows": null,
            "grid_column": null,
            "grid_gap": null,
            "grid_row": null,
            "grid_template_areas": null,
            "grid_template_columns": null,
            "grid_template_rows": null,
            "height": null,
            "justify_content": null,
            "justify_items": null,
            "left": null,
            "margin": null,
            "max_height": null,
            "max_width": null,
            "min_height": null,
            "min_width": null,
            "object_fit": null,
            "object_position": null,
            "order": null,
            "overflow": null,
            "overflow_x": null,
            "overflow_y": null,
            "padding": null,
            "right": null,
            "top": null,
            "visibility": null,
            "width": null
          }
        },
        "fd19713243a64d68a4fd32192c1c7c51": {
          "model_module": "@jupyter-widgets/controls",
          "model_module_version": "1.5.0",
          "model_name": "DescriptionStyleModel",
          "state": {
            "_model_module": "@jupyter-widgets/controls",
            "_model_module_version": "1.5.0",
            "_model_name": "DescriptionStyleModel",
            "_view_count": null,
            "_view_module": "@jupyter-widgets/base",
            "_view_module_version": "1.2.0",
            "_view_name": "StyleView",
            "description_width": ""
          }
        }
      }
    }
  },
  "nbformat": 4,
  "nbformat_minor": 0
}
